{
 "cells": [
  {
   "cell_type": "code",
   "execution_count": 1,
   "id": "30935c25-5c96-476f-a0b0-b52de2cab591",
   "metadata": {
    "pycharm": {
     "name": "#%%\n"
    }
   },
   "outputs": [
    {
     "name": "stderr",
     "output_type": "stream",
     "text": [
      "[nltk_data] Downloading package punkt to /home/risto/nltk_data...\n",
      "[nltk_data]   Package punkt is already up-to-date!\n"
     ]
    },
    {
     "data": {
      "text/plain": [
       "True"
      ]
     },
     "execution_count": 1,
     "metadata": {},
     "output_type": "execute_result"
    }
   ],
   "source": [
    "import torch\n",
    "from transformers import AutoTokenizer, AutoModelForSeq2SeqLM, EarlyStoppingCallback\n",
    "from transformers import DataCollatorForSeq2Seq\n",
    "from huggingface_hub import HfFolder\n",
    "from transformers import Seq2SeqTrainer, Seq2SeqTrainingArguments\n",
    "from datasets import load_dataset\n",
    "from datasets import concatenate_datasets\n",
    "from transformers import T5ForConditionalGeneration, T5Tokenizer\n",
    "from transformers import GenerationConfig\n",
    "from random import randrange\n",
    "import evaluate\n",
    "import nltk\n",
    "from ast import literal_eval\n",
    "import numpy as np\n",
    "from nltk.tokenize import sent_tokenize\n",
    "from collections import Counter\n",
    "nltk.download(\"punkt\")"
   ]
  },
  {
   "cell_type": "code",
   "execution_count": 2,
   "id": "0d3ccec9-1a90-4e52-93df-277c06e0dedd",
   "metadata": {
    "pycharm": {
     "name": "#%%\n"
    }
   },
   "outputs": [],
   "source": [
    "# !pip install nltk"
   ]
  },
  {
   "cell_type": "code",
   "execution_count": 3,
   "id": "53e69b14-4a03-463e-b71b-79c6b800edc1",
   "metadata": {
    "pycharm": {
     "name": "#%%\n"
    }
   },
   "outputs": [],
   "source": [
    "# !pip install evaluate"
   ]
  },
  {
   "cell_type": "code",
   "execution_count": 4,
   "id": "edf42950-9405-4d2a-bb56-46991f67c626",
   "metadata": {
    "pycharm": {
     "name": "#%%\n"
    }
   },
   "outputs": [],
   "source": [
    "# !pip install rouge_score"
   ]
  },
  {
   "cell_type": "code",
   "execution_count": 5,
   "id": "68c325f1-27e3-46af-9918-72289c66fad8",
   "metadata": {
    "pycharm": {
     "name": "#%%\n"
    }
   },
   "outputs": [],
   "source": [
    "# !pip install py7zr"
   ]
  },
  {
   "cell_type": "code",
   "execution_count": 6,
   "id": "bad355d6-5bea-4ecf-9a4e-41e1355fe940",
   "metadata": {
    "pycharm": {
     "name": "#%%\n"
    }
   },
   "outputs": [],
   "source": [
    "# !pip install peft"
   ]
  },
  {
   "cell_type": "code",
   "execution_count": 7,
   "id": "3f56bd08-ae69-449c-8f1f-8705921014fe",
   "metadata": {
    "pycharm": {
     "name": "#%%\n"
    }
   },
   "outputs": [],
   "source": [
    "# !pip install transformers --upgrade"
   ]
  },
  {
   "cell_type": "markdown",
   "id": "914a35e3-6189-4778-a87b-9f5ec059b1a7",
   "metadata": {
    "pycharm": {
     "name": "#%% md\n"
    }
   },
   "source": [
    "source: https://towardsdatascience.com/how-to-adapt-a-multilingual-t5-model-for-a-single-language-b9f94f3d9c90"
   ]
  },
  {
   "cell_type": "markdown",
   "id": "bb6685f2-29ac-4018-9486-b33f823f014a",
   "metadata": {
    "pycharm": {
     "name": "#%% md\n"
    }
   },
   "source": [
    "## model"
   ]
  },
  {
   "cell_type": "code",
   "execution_count": 4,
   "id": "b6ec30be-e29f-4e93-a137-575b9b388994",
   "metadata": {
    "pycharm": {
     "name": "#%%\n"
    }
   },
   "outputs": [],
   "source": [
    "model_id=\"google/mt5-base\""
   ]
  },
  {
   "cell_type": "code",
   "execution_count": 8,
   "id": "5d01fadf-2e4d-4801-bb53-5581b61eb4a3",
   "metadata": {
    "pycharm": {
     "name": "#%%\n"
    }
   },
   "outputs": [
    {
     "name": "stderr",
     "output_type": "stream",
     "text": [
      "You are using the default legacy behaviour of the <class 'transformers.models.t5.tokenization_t5.T5Tokenizer'>. This is expected, and simply means that the `legacy` (previous) behavior will be used so nothing changes for you. If you want to use the new behaviour, set `legacy=False`. This should only be set if you understand what it means, and thouroughly read the reason why this was added as explained in https://github.com/huggingface/transformers/pull/24565\n",
      "You are using a model of type mt5 to instantiate a model of type t5. This is not supported for all configurations of models and can yield errors.\n"
     ]
    }
   ],
   "source": [
    "tokenizer = T5Tokenizer.from_pretrained(model_id)\n",
    "model = T5ForConditionalGeneration.from_pretrained(model_id)"
   ]
  },
  {
   "cell_type": "code",
   "execution_count": 9,
   "id": "fbd92d3c-0e82-4063-b989-e0baa11c4fa6",
   "metadata": {
    "pycharm": {
     "name": "#%%\n"
    }
   },
   "outputs": [
    {
     "name": "stdout",
     "output_type": "stream",
     "text": [
      "0.32981729710484153\n",
      "0.32981729710484153\n"
     ]
    }
   ],
   "source": [
    "def msize(m):\n",
    "    return sum(p.numel() for p in m.parameters())\n",
    "print(msize(model.shared) / msize(model))   \n",
    "print(msize(model.lm_head) / msize(model))  "
   ]
  },
  {
   "cell_type": "markdown",
   "id": "16672a47-8e1b-4318-bf3f-6ec962315d35",
   "metadata": {
    "pycharm": {
     "name": "#%% md\n"
    }
   },
   "source": [
    "about 42% are embeddings"
   ]
  },
  {
   "cell_type": "markdown",
   "id": "d9a2ca13-1507-402d-bb77-289d594c6219",
   "metadata": {
    "pycharm": {
     "name": "#%% md\n"
    }
   },
   "source": [
    "## data"
   ]
  },
  {
   "cell_type": "code",
   "execution_count": 2,
   "id": "0488a3e2-a550-4014-9f58-25686dd78a8e",
   "metadata": {
    "pycharm": {
     "name": "#%%\n"
    }
   },
   "outputs": [
    {
     "name": "stdout",
     "output_type": "stream",
     "text": [
      "Train dataset size: 8656\n",
      "Test dataset size: 481\n"
     ]
    }
   ],
   "source": [
    "dataset_id = \"TalTechNLP/LongSumEt\"\n",
    "dataset = load_dataset(dataset_id)\n",
    "\n",
    "print(f\"Train dataset size: {len(dataset['train'])}\")\n",
    "print(f\"Test dataset size: {len(dataset['test'])}\")"
   ]
  },
  {
   "cell_type": "code",
   "execution_count": 3,
   "id": "a0af9bcd-5210-42f7-ba0a-08d30b42886a",
   "metadata": {
    "pycharm": {
     "name": "#%%\n"
    }
   },
   "outputs": [],
   "source": [
    "dataset['train']=dataset['train'].filter(lambda example, idx: example['bulletpoints'] is not None and example['text'] is not None, with_indices=True)\n",
    "dataset['test'] = dataset['test'].filter(lambda example, idx: example['bulletpoints'] is not None and example['text'] is not None, with_indices=True)"
   ]
  },
  {
   "cell_type": "code",
   "execution_count": 4,
   "id": "22649e1c-1d82-496e-917d-85abdb972f1e",
   "metadata": {
    "pycharm": {
     "name": "#%%\n"
    }
   },
   "outputs": [
    {
     "name": "stdout",
     "output_type": "stream",
     "text": [
      "Train dataset size: 8656\n",
      "Test dataset size: 481\n"
     ]
    }
   ],
   "source": [
    "print(f\"Train dataset size: {len(dataset['train'])}\")\n",
    "print(f\"Test dataset size: {len(dataset['test'])}\")"
   ]
  },
  {
   "cell_type": "code",
   "execution_count": 5,
   "id": "5f2ad20f-2136-4d1e-af02-960588efe7a1",
   "metadata": {
    "pycharm": {
     "name": "#%%\n"
    }
   },
   "outputs": [
    {
     "data": {
      "text/plain": [
       "Dataset({\n",
       "    features: ['text', 'long_summary', 'short_summary', 'bulletpoints', 'timestamp', 'url', 'source'],\n",
       "    num_rows: 8656\n",
       "})"
      ]
     },
     "execution_count": 5,
     "metadata": {},
     "output_type": "execute_result"
    }
   ],
   "source": [
    "train_dataset = dataset['train'].filter(lambda example, idx: example['bulletpoints'] is not None and example['text'] is not None, with_indices=True)\n",
    "train_dataset"
   ]
  },
  {
   "cell_type": "code",
   "execution_count": 6,
   "id": "689beb13-2669-4980-a3ea-41d703ab7845",
   "metadata": {
    "pycharm": {
     "name": "#%%\n"
    }
   },
   "outputs": [
    {
     "data": {
      "text/plain": [
       "Dataset({\n",
       "    features: ['text', 'long_summary', 'short_summary', 'bulletpoints', 'timestamp', 'url', 'source'],\n",
       "    num_rows: 481\n",
       "})"
      ]
     },
     "execution_count": 6,
     "metadata": {},
     "output_type": "execute_result"
    }
   ],
   "source": [
    "test_dataset = dataset['test'].filter(lambda example, idx: example['bulletpoints'] is not None and example['text'] is not None, with_indices=True)\n",
    "test_dataset"
   ]
  },
  {
   "cell_type": "code",
   "execution_count": 7,
   "id": "e5a5edd3-6da0-46bb-9b7b-9e0195b87c19",
   "metadata": {
    "pycharm": {
     "name": "#%%\n"
    }
   },
   "outputs": [],
   "source": [
    "def format_bulletpoints(example):\n",
    "    example[\"bulletpoints\"] = ' ## '.join(literal_eval(example[\"bulletpoints\"]))\n",
    "    return example"
   ]
  },
  {
   "cell_type": "code",
   "execution_count": 8,
   "id": "ef5f2bc6-a864-4744-816d-581df16dbdaa",
   "metadata": {
    "pycharm": {
     "name": "#%%\n"
    }
   },
   "outputs": [],
   "source": [
    "train_dataset = train_dataset.map(format_bulletpoints)\n",
    "test_dataset = test_dataset.map(format_bulletpoints)"
   ]
  },
  {
   "cell_type": "markdown",
   "id": "ff097111-2531-4ce9-ab97-510ef699fa4a",
   "metadata": {
    "pycharm": {
     "name": "#%% md\n"
    }
   },
   "source": [
    "## update model vocabulary"
   ]
  },
  {
   "cell_type": "code",
   "execution_count": 17,
   "id": "3658a305-6512-4b78-a6ee-64fdccf3780d",
   "metadata": {
    "pycharm": {
     "name": "#%%\n"
    }
   },
   "outputs": [
    {
     "data": {
      "text/plain": [
       "17312"
      ]
     },
     "execution_count": 17,
     "metadata": {},
     "output_type": "execute_result"
    }
   ],
   "source": [
    "texts4vocab=train_dataset['text']+train_dataset['bulletpoints']\n",
    "len(texts4vocab)"
   ]
  },
  {
   "cell_type": "code",
   "execution_count": 18,
   "id": "c19cfcdd-c6da-4ab7-812a-5bd2c09efa86",
   "metadata": {
    "pycharm": {
     "name": "#%%\n"
    }
   },
   "outputs": [
    {
     "name": "stdout",
     "output_type": "stream",
     "text": [
      "63872 0.25538584566173533\n"
     ]
    }
   ],
   "source": [
    "cnt_et = Counter()\n",
    "for text in texts4vocab:\n",
    "    cnt_et.update(tokenizer.encode(text))\n",
    "print(len(cnt_et), len(cnt_et)/tokenizer.vocab_size)  "
   ]
  },
  {
   "cell_type": "code",
   "execution_count": 19,
   "id": "590004ae-8bd8-471b-a3df-f4e4ced08f35",
   "metadata": {
    "pycharm": {
     "name": "#%%\n"
    }
   },
   "outputs": [
    {
     "data": {
      "text/plain": [
       "[(259, 1648335),\n",
       " (261, 687589),\n",
       " (260, 555966),\n",
       " (263, 300766),\n",
       " (432, 290519),\n",
       " (351, 266026),\n",
       " (265, 252862),\n",
       " (266, 215732),\n",
       " (262, 206852),\n",
       " (270, 150196),\n",
       " (383, 128058),\n",
       " (285, 121275),\n",
       " (316, 108962),\n",
       " (1055, 103119),\n",
       " (280, 101058),\n",
       " (427, 98684),\n",
       " (273, 83386),\n",
       " (264, 82562),\n",
       " (3692, 75576),\n",
       " (3242, 73647)]"
      ]
     },
     "execution_count": 19,
     "metadata": {},
     "output_type": "execute_result"
    }
   ],
   "source": [
    "cnt_et.most_common(20)"
   ]
  },
  {
   "cell_type": "code",
   "execution_count": 20,
   "id": "30b33882-e523-47fb-82d6-882dde21115b",
   "metadata": {
    "pycharm": {
     "name": "#%%\n"
    }
   },
   "outputs": [
    {
     "name": "stdout",
     "output_type": "stream",
     "text": [
      "64378\n"
     ]
    }
   ],
   "source": [
    "new_tokens = set(range(1000))\n",
    "for i, (k, v) in enumerate(cnt_et.items()):\n",
    "    if k not in new_tokens:\n",
    "        new_tokens.add(k)\n",
    "for t in range(tokenizer.vocab_size - 100, tokenizer.vocab_size):\n",
    "    new_tokens.add(t)\n",
    "print(len(new_tokens))\n",
    "kept_ids = sorted(new_tokens)"
   ]
  },
  {
   "cell_type": "code",
   "execution_count": 21,
   "id": "7ed5e901-6a7d-44d4-a9e7-b3616499d6fc",
   "metadata": {
    "pycharm": {
     "name": "#%%\n"
    }
   },
   "outputs": [
    {
     "data": {
      "text/plain": [
       "[250090,\n",
       " 250091,\n",
       " 250092,\n",
       " 250093,\n",
       " 250094,\n",
       " 250095,\n",
       " 250096,\n",
       " 250097,\n",
       " 250098,\n",
       " 250099]"
      ]
     },
     "execution_count": 21,
     "metadata": {},
     "output_type": "execute_result"
    }
   ],
   "source": [
    "kept_ids[-10:]"
   ]
  },
  {
   "cell_type": "markdown",
   "id": "b808335c-9428-4102-bb58-db3e7d214081",
   "metadata": {
    "pycharm": {
     "name": "#%% md\n"
    }
   },
   "source": [
    "### update model"
   ]
  },
  {
   "cell_type": "code",
   "execution_count": 22,
   "id": "fd4c275e-2b32-46ee-ac7a-d06a6ef72f3f",
   "metadata": {
    "pycharm": {
     "name": "#%%\n"
    }
   },
   "outputs": [],
   "source": [
    "new_size = len(kept_ids)\n",
    "new_emb = torch.nn.Embedding(new_size, model.shared.embedding_dim)\n",
    "new_head = torch.nn.Linear(in_features=model.lm_head.in_features, out_features=new_size, bias=False)\n",
    "for new_id, old_id in enumerate(kept_ids):\n",
    "    new_emb.weight.data[new_id] = model.shared.weight.data[old_id]\n",
    "    new_head.weight.data[new_id] = model.lm_head.weight.data[old_id]\n",
    "model.shared.weight = new_emb.weight\n",
    "model.lm_head.weight = new_head.weight\n",
    "model.config.__dict__['vocab_size'] = new_size\n",
    "model.config.__dict__['_name_or_path'] = 'mt5_et_base_bullets/mt_et_t5-base_bullets'"
   ]
  },
  {
   "cell_type": "markdown",
   "id": "a12f2fad-46bb-49d6-a79e-12713f02d131",
   "metadata": {
    "pycharm": {
     "name": "#%% md\n"
    }
   },
   "source": [
    "### update tokenizer"
   ]
  },
  {
   "cell_type": "code",
   "execution_count": 43,
   "id": "400f729c-00f5-47aa-a2b2-ae51c67a1866",
   "metadata": {
    "pycharm": {
     "name": "#%%\n"
    }
   },
   "outputs": [],
   "source": [
    "# !apt-get update \n",
    "# !apt install protobuf-compiler -y"
   ]
  },
  {
   "cell_type": "code",
   "execution_count": 24,
   "id": "03c511e8-c156-4f7a-8bcb-0719fa8610d6",
   "metadata": {
    "pycharm": {
     "name": "#%%\n"
    }
   },
   "outputs": [
    {
     "name": "stdout",
     "output_type": "stream",
     "text": [
      "--2024-04-16 11:29:51--  https://raw.githubusercontent.com/google/sentencepiece/master/src/sentencepiece_model.proto\n",
      "Resolving raw.githubusercontent.com (raw.githubusercontent.com)... 185.199.111.133, 185.199.110.133, 185.199.109.133, ...\n",
      "Connecting to raw.githubusercontent.com (raw.githubusercontent.com)|185.199.111.133|:443... connected.\n",
      "HTTP request sent, awaiting response... 200 OK\n",
      "Length: 14023 (14K) [text/plain]\n",
      "Saving to: ‘sentencepiece_model.proto’\n",
      "\n",
      "sentencepiece_model 100%[===================>]  13.69K  --.-KB/s    in 0.001s  \n",
      "\n",
      "2024-04-16 11:29:51 (14.0 MB/s) - ‘sentencepiece_model.proto’ saved [14023/14023]\n",
      "\n",
      "the loaded model has pieces: 250100\n",
      "the new pieces: 64378\n",
      "64378\n"
     ]
    }
   ],
   "source": [
    "! wget https://raw.githubusercontent.com/google/sentencepiece/master/src/sentencepiece_model.proto\n",
    "! protoc --python_out=. sentencepiece_model.proto\n",
    "import sentencepiece.sentencepiece_model_pb2 as spmp\n",
    "smp = tokenizer.sp_model.serialized_model_proto()\n",
    "m = spmp.ModelProto()\n",
    "m.ParseFromString(smp)\n",
    "print('the loaded model has pieces:', len(m.pieces))\n",
    "new_pieces = [m.pieces[idx] for idx in kept_ids]\n",
    "print('the new pieces:', len(new_pieces))\n",
    "# replace the content of the first 30K pieces\n",
    "for i, p in enumerate(new_pieces):\n",
    "    m.pieces[i].piece = p.piece\n",
    "    m.pieces[i].score = p.score\n",
    "    m.pieces[i].type = p.type\n",
    "# drop the remaining pieces\n",
    "n = len(new_pieces)\n",
    "for i in range(len(m.pieces) - n):\n",
    "    m.pieces.pop(len(m.pieces) - 1)\n",
    "print(len(m.pieces))\n",
    "with open('mt5_et_base/new_sp.model', 'wb') as f:\n",
    "    f.write(m.SerializeToString())\n",
    "new_tokenizer = T5Tokenizer('mt5_et_base/new_sp.model', extra_ids=0)"
   ]
  },
  {
   "cell_type": "code",
   "execution_count": 25,
   "id": "e0af3370-804f-412b-ab64-d1f671357f54",
   "metadata": {
    "pycharm": {
     "name": "#%%\n"
    }
   },
   "outputs": [],
   "source": [
    "new_tokenizer.save_pretrained('mt5_et_base_bullets')\n",
    "model.save_pretrained('mt5_et_base_bullets')"
   ]
  },
  {
   "cell_type": "code",
   "execution_count": 26,
   "id": "f5ebfeab-7b3d-485f-b6a5-a0aba06c3fbf",
   "metadata": {
    "pycharm": {
     "name": "#%%\n"
    }
   },
   "outputs": [
    {
     "data": {
      "text/plain": [
       "{'input_ids': [767, 265, 4286, 23384, 309, 1], 'attention_mask': [1, 1, 1, 1, 1, 1]}"
      ]
     },
     "execution_count": 26,
     "metadata": {},
     "output_type": "execute_result"
    }
   ],
   "source": [
    "new_tokenizer('tere tulemast!')"
   ]
  },
  {
   "cell_type": "code",
   "execution_count": 15,
   "id": "4ca62b8f-37bf-4876-9a31-a3c7752f7701",
   "metadata": {
    "pycharm": {
     "name": "#%%\n"
    }
   },
   "outputs": [],
   "source": [
    "tokenizer = T5Tokenizer.from_pretrained('mt5_et_base_bullets')\n",
    "model = T5ForConditionalGeneration.from_pretrained('mt5_et_base_bullets', max_length=512)"
   ]
  },
  {
   "cell_type": "markdown",
   "id": "720c1b3b-d201-49bf-9362-85cfc93c3366",
   "metadata": {
    "pycharm": {
     "name": "#%% md\n"
    }
   },
   "source": [
    "## prep data for training"
   ]
  },
  {
   "cell_type": "code",
   "execution_count": 44,
   "id": "58462ab6-a200-4870-9404-116e6e9dd483",
   "metadata": {
    "pycharm": {
     "name": "#%%\n"
    }
   },
   "outputs": [],
   "source": [
    "max_source_length=1024"
   ]
  },
  {
   "cell_type": "code",
   "execution_count": 45,
   "id": "f000e83a-938f-4062-bbd9-81e49581f3bd",
   "metadata": {
    "pycharm": {
     "name": "#%%\n"
    }
   },
   "outputs": [],
   "source": [
    "max_target_length=512"
   ]
  },
  {
   "cell_type": "code",
   "execution_count": 17,
   "id": "3737edea-df3e-4261-9141-ad2c8368fbd3",
   "metadata": {
    "pycharm": {
     "name": "#%%\n"
    }
   },
   "outputs": [],
   "source": [
    "def preprocess_function(sample,padding=\"max_length\"):\n",
    "    # add prefix to the input for t5\n",
    "    inputs = [\"summarize: \" + item for item in sample[\"text\"]]\n",
    "\n",
    "    # tokenize inputs\n",
    "    model_inputs = tokenizer(inputs, max_length=max_source_length, padding=padding, truncation=True)\n",
    "\n",
    "    # Tokenize targets with the `text_target` keyword argument\n",
    "    labels = tokenizer(text=sample[\"bulletpoints\"], max_length=max_target_length, padding=padding, truncation=True)\n",
    "\n",
    "    # If we are padding here, replace all tokenizer.pad_token_id in the labels by -100 when we want to ignore\n",
    "    # padding in the loss.\n",
    "    if padding == \"max_length\":\n",
    "        labels[\"input_ids\"] = [\n",
    "            [(l if l != tokenizer.pad_token_id else -100) for l in label] for label in labels[\"input_ids\"]\n",
    "        ]\n",
    "\n",
    "    model_inputs[\"labels\"] = labels[\"input_ids\"]\n",
    "    return model_inputs\n",
    "\n",
    "tokenized_train_dataset = train_dataset.map(preprocess_function, batched=True, remove_columns=[\"text\", \"bulletpoints\"])\n",
    "tokenized_test_dataset = test_dataset.map(preprocess_function, batched=True, remove_columns=[\"text\", \"bulletpoints\"])"
   ]
  },
  {
   "cell_type": "markdown",
   "id": "11fc810e-4647-46f0-8813-a0ac8f5f5a9e",
   "metadata": {
    "pycharm": {
     "name": "#%% md\n"
    }
   },
   "source": [
    "## evaluator"
   ]
  },
  {
   "cell_type": "code",
   "execution_count": 9,
   "id": "de471419-c631-41db-9055-485596a606d3",
   "metadata": {
    "pycharm": {
     "name": "#%%\n"
    }
   },
   "outputs": [],
   "source": [
    "# Metric\n",
    "metric = evaluate.load(\"rouge\")\n",
    "\n",
    "# helper function to postprocess text\n",
    "def postprocess_text(preds, labels):\n",
    "    preds = [pred.strip() for pred in preds]\n",
    "    labels = [label.strip() for label in labels]\n",
    "\n",
    "    # rougeLSum expects newline after each sentence\n",
    "    preds = [\"\\n\".join(sent_tokenize(pred)) for pred in preds]\n",
    "    labels = [\"\\n\".join(sent_tokenize(label)) for label in labels]\n",
    "\n",
    "    return preds, labels\n",
    "\n",
    "def compute_metrics(eval_preds):\n",
    "    preds, labels = eval_preds\n",
    "    if isinstance(preds, tuple):\n",
    "        preds = preds[0]\n",
    "    decoded_preds = tokenizer.batch_decode(preds, skip_special_tokens=True)\n",
    "    # Replace -100 in the labels as we can't decode them.\n",
    "    labels = np.where(labels != -100, labels, tokenizer.pad_token_id)\n",
    "    decoded_labels = tokenizer.batch_decode(labels, skip_special_tokens=True)\n",
    "\n",
    "    # Some simple post-processing\n",
    "    decoded_preds, decoded_labels = postprocess_text(decoded_preds, decoded_labels)\n",
    "\n",
    "    result = metric.compute(predictions=decoded_preds, references=decoded_labels, use_stemmer=True)\n",
    "    result = {k: round(v * 100, 4) for k, v in result.items()}\n",
    "    prediction_lens = [np.count_nonzero(pred != tokenizer.pad_token_id) for pred in preds]\n",
    "    result[\"gen_len\"] = np.mean(prediction_lens)\n",
    "    return result"
   ]
  },
  {
   "cell_type": "code",
   "execution_count": 19,
   "id": "9bcf0960-da63-4f4f-a88b-6bd8cdce783d",
   "metadata": {
    "pycharm": {
     "name": "#%%\n"
    }
   },
   "outputs": [],
   "source": [
    "# we want to ignore tokenizer pad token in the loss\n",
    "label_pad_token_id = -100\n",
    "# Data collator\n",
    "data_collator = DataCollatorForSeq2Seq(\n",
    "    tokenizer,\n",
    "    model=model,\n",
    "    label_pad_token_id=label_pad_token_id,\n",
    "    pad_to_multiple_of=8\n",
    ")"
   ]
  },
  {
   "cell_type": "markdown",
   "id": "395c1268-ae7d-4537-9de0-f6b448a5af76",
   "metadata": {
    "pycharm": {
     "name": "#%% md\n"
    }
   },
   "source": [
    "## training "
   ]
  },
  {
   "cell_type": "code",
   "execution_count": 20,
   "id": "9394d21f-92d3-42fa-8597-a2ff3c8aad64",
   "metadata": {
    "pycharm": {
     "name": "#%%\n"
    }
   },
   "outputs": [],
   "source": [
    "early_stop = EarlyStoppingCallback(3, 0.0)"
   ]
  },
  {
   "cell_type": "code",
   "execution_count": 22,
   "id": "8c4ae189-8f5e-4add-8b34-4cf0c40c2ce6",
   "metadata": {
    "pycharm": {
     "name": "#%%\n"
    }
   },
   "outputs": [
    {
     "name": "stderr",
     "output_type": "stream",
     "text": [
      "/home/risto/.local/lib/python3.9/site-packages/accelerate/accelerator.py:436: FutureWarning: Passing the following arguments to `Accelerator` is deprecated and will be removed in version 1.0 of Accelerate: dict_keys(['dispatch_batches', 'split_batches']). Please pass an `accelerate.DataLoaderConfiguration` instead: \n",
      "dataloader_config = DataLoaderConfiguration(dispatch_batches=None, split_batches=False)\n",
      "  warnings.warn(\n"
     ]
    }
   ],
   "source": [
    "# Hugging Face repository id\n",
    "repository_id = f\"{model_id.split('/')[1]}-{dataset_id}\"#for some reason this was not working\n",
    "\n",
    "# Define training args\n",
    "training_args = Seq2SeqTrainingArguments(\n",
    "    output_dir=repository_id,\n",
    "    per_device_train_batch_size=2,\n",
    "    per_device_eval_batch_size=2,\n",
    "    # gradient_accumulation_steps=4,\n",
    "    predict_with_generate=True,\n",
    "    fp16=False, # Overflows with fp16\n",
    "    learning_rate=5e-5,\n",
    "    num_train_epochs=20,\n",
    "    # logging & evaluation strategies\n",
    "    logging_dir=f\"{repository_id}/logs\",\n",
    "    logging_strategy=\"steps\",\n",
    "    logging_steps=500,\n",
    "    evaluation_strategy=\"epoch\",\n",
    "    save_strategy=\"epoch\",\n",
    "    save_total_limit=2,\n",
    "    load_best_model_at_end=True,\n",
    "    metric_for_best_model=\"eval_loss\",\n",
    "    # push to hub parameters\n",
    "    report_to=\"tensorboard\",\n",
    "    push_to_hub=False,\n",
    "    hub_strategy=\"every_save\",\n",
    "    hub_model_id=repository_id,\n",
    "    hub_token=HfFolder.get_token(),\n",
    "    # generation_max_length=40\n",
    ")\n",
    "\n",
    "# Create Trainer instance\n",
    "trainer = Seq2SeqTrainer(\n",
    "    model=model,\n",
    "    args=training_args,\n",
    "    data_collator=data_collator,\n",
    "    train_dataset=tokenized_train_dataset,\n",
    "    eval_dataset=tokenized_test_dataset,\n",
    "    compute_metrics=compute_metrics,\n",
    "    callbacks=[early_stop]\n",
    ")"
   ]
  },
  {
   "cell_type": "code",
   "execution_count": null,
   "id": "027c86c4-b33e-429c-8a8a-e9d975162bcd",
   "metadata": {
    "pycharm": {
     "name": "#%%\n"
    }
   },
   "outputs": [
    {
     "data": {
      "text/html": [
       "\n",
       "    <div>\n",
       "      \n",
       "      <progress value='29798' max='86560' style='width:300px; height:20px; vertical-align: middle;'></progress>\n",
       "      [29798/86560 4:08:28 < 7:53:20, 2.00 it/s, Epoch 6.88/20]\n",
       "    </div>\n",
       "    <table border=\"1\" class=\"dataframe\">\n",
       "  <thead>\n",
       " <tr style=\"text-align: left;\">\n",
       "      <th>Epoch</th>\n",
       "      <th>Training Loss</th>\n",
       "      <th>Validation Loss</th>\n",
       "      <th>Rouge1</th>\n",
       "      <th>Rouge2</th>\n",
       "      <th>Rougel</th>\n",
       "      <th>Rougelsum</th>\n",
       "      <th>Gen Len</th>\n",
       "    </tr>\n",
       "  </thead>\n",
       "  <tbody>\n",
       "    <tr>\n",
       "      <td>1</td>\n",
       "      <td>3.010900</td>\n",
       "      <td>2.392708</td>\n",
       "      <td>20.597400</td>\n",
       "      <td>5.990300</td>\n",
       "      <td>17.838400</td>\n",
       "      <td>17.870100</td>\n",
       "      <td>53.461538</td>\n",
       "    </tr>\n",
       "    <tr>\n",
       "      <td>2</td>\n",
       "      <td>2.674500</td>\n",
       "      <td>2.317516</td>\n",
       "      <td>22.599000</td>\n",
       "      <td>6.908400</td>\n",
       "      <td>19.647700</td>\n",
       "      <td>19.667700</td>\n",
       "      <td>52.255717</td>\n",
       "    </tr>\n",
       "    <tr>\n",
       "      <td>3</td>\n",
       "      <td>2.522900</td>\n",
       "      <td>2.267915</td>\n",
       "      <td>23.778400</td>\n",
       "      <td>7.322300</td>\n",
       "      <td>20.292800</td>\n",
       "      <td>20.299700</td>\n",
       "      <td>52.812890</td>\n",
       "    </tr>\n",
       "    <tr>\n",
       "      <td>4</td>\n",
       "      <td>2.349600</td>\n",
       "      <td>2.256726</td>\n",
       "      <td>24.511500</td>\n",
       "      <td>7.921200</td>\n",
       "      <td>20.934200</td>\n",
       "      <td>20.956300</td>\n",
       "      <td>51.964657</td>\n",
       "    </tr>\n",
       "    <tr>\n",
       "      <td>5</td>\n",
       "      <td>2.245900</td>\n",
       "      <td>2.232470</td>\n",
       "      <td>24.943300</td>\n",
       "      <td>7.760100</td>\n",
       "      <td>21.024400</td>\n",
       "      <td>21.031500</td>\n",
       "      <td>51.166320</td>\n",
       "    </tr>\n",
       "    <tr>\n",
       "      <td>6</td>\n",
       "      <td>2.131000</td>\n",
       "      <td>2.227765</td>\n",
       "      <td>25.106400</td>\n",
       "      <td>7.754000</td>\n",
       "      <td>21.417900</td>\n",
       "      <td>21.444300</td>\n",
       "      <td>52.076923</td>\n",
       "    </tr>\n",
       "  </tbody>\n",
       "</table><p>"
      ],
      "text/plain": [
       "<IPython.core.display.HTML object>"
      ]
     },
     "metadata": {},
     "output_type": "display_data"
    },
    {
     "name": "stderr",
     "output_type": "stream",
     "text": [
      "IOPub message rate exceeded.\n",
      "The Jupyter server will temporarily stop sending output\n",
      "to the client in order to avoid crashing it.\n",
      "To change this limit, set the config variable\n",
      "`--ServerApp.iopub_msg_rate_limit`.\n",
      "\n",
      "Current values:\n",
      "ServerApp.iopub_msg_rate_limit=1000.0 (msgs/sec)\n",
      "ServerApp.rate_limit_window=3.0 (secs)\n",
      "\n"
     ]
    }
   ],
   "source": [
    "# Start training\n",
    "trainer.train()"
   ]
  },
  {
   "cell_type": "markdown",
   "id": "bdba7297-676c-4cac-ad71-6e00e39ab899",
   "metadata": {
    "pycharm": {
     "name": "#%% md\n"
    }
   },
   "source": [
    "## calculate metrics"
   ]
  },
  {
   "cell_type": "code",
   "execution_count": 16,
   "id": "825c6dbc-ae7d-426d-96e4-9e8d14376e8c",
   "metadata": {
    "pycharm": {
     "name": "#%%\n"
    }
   },
   "outputs": [],
   "source": [
    "model_id='mt5-base-TalTechNLP/LongSumEt/checkpoint-38952/'\n",
    "model = AutoModelForSeq2SeqLM.from_pretrained(model_id)"
   ]
  },
  {
   "cell_type": "code",
   "execution_count": 17,
   "id": "cfeea40b-7be7-42d5-8d77-3f92872cd9f2",
   "metadata": {
    "pycharm": {
     "name": "#%%\n"
    }
   },
   "outputs": [],
   "source": [
    "model=model.to('cuda')"
   ]
  },
  {
   "cell_type": "code",
   "execution_count": 24,
   "id": "e5834b60-c300-4d15-aef4-2f005ccef5d6",
   "metadata": {
    "pycharm": {
     "name": "#%%\n"
    }
   },
   "outputs": [],
   "source": [
    "def calc_texts_labels_metrics(texts, summaries, model, tokenizer, max_input_length=1024, max_output_length=512, batch_size = 10):\n",
    "    true_labels=tokenizer(\n",
    "        summaries, return_tensors=\"pt\",padding=\"max_length\", truncation=True, max_length=max_input_length\n",
    "    ).input_ids.cpu()\n",
    "    input_ids = tokenizer(\n",
    "        texts, return_tensors=\"pt\", padding=\"max_length\", truncation=True, max_length=max_input_length\n",
    "    ).input_ids  \n",
    "    \n",
    "    predictions = []\n",
    "    for i in range(0, input_ids.size(0), batch_size):\n",
    "        batch_input_ids = input_ids[i:i + batch_size].to('cuda')\n",
    "        batch_outputs = model.generate(input_ids=batch_input_ids, max_length=max_output_length)\n",
    "        predictions.extend(batch_outputs.cpu().detach().numpy())\n",
    "    max_length = max(len(p) for p in predictions)\n",
    "    padded_predictions = [np.pad(p, (0, max_length - len(p)), mode='constant') for p in predictions]\n",
    "    outputs = torch.tensor(padded_predictions)\n",
    "    eval_preds = (outputs, true_labels.cpu())\n",
    "    metrics = compute_metrics(eval_preds)\n",
    "    return metrics"
   ]
  },
  {
   "cell_type": "code",
   "execution_count": 31,
   "id": "c543c28c-cd09-4cb2-a675-881800336d1a",
   "metadata": {
    "pycharm": {
     "name": "#%%\n"
    }
   },
   "outputs": [
    {
     "data": {
      "text/plain": [
       "Dataset({\n",
       "    features: ['text', 'long_summary', 'short_summary', 'bulletpoints', 'timestamp', 'url', 'source'],\n",
       "    num_rows: 8656\n",
       "})"
      ]
     },
     "execution_count": 31,
     "metadata": {},
     "output_type": "execute_result"
    }
   ],
   "source": [
    "train_dataset"
   ]
  },
  {
   "cell_type": "code",
   "execution_count": 32,
   "id": "c6e35d98-4731-4729-bc46-8c33d9395c58",
   "metadata": {
    "pycharm": {
     "name": "#%%\n"
    }
   },
   "outputs": [
    {
     "data": {
      "text/plain": [
       "{'rouge1': 26.0263,\n",
       " 'rouge2': 8.3355,\n",
       " 'rougeL': 22.0547,\n",
       " 'rougeLsum': 22.0598,\n",
       " 'gen_len': 52.32016632016632}"
      ]
     },
     "execution_count": 32,
     "metadata": {},
     "output_type": "execute_result"
    }
   ],
   "source": [
    "eval_metrics=calc_texts_labels_metrics(test_dataset['text'], test_dataset['bulletpoints'], model, tokenizer)\n",
    "eval_metrics"
   ]
  },
  {
   "cell_type": "markdown",
   "id": "0d7c751f-8c86-4371-b961-994df10e6767",
   "metadata": {
    "pycharm": {
     "name": "#%% md\n"
    }
   },
   "source": [
    "## example usage"
   ]
  },
  {
   "cell_type": "code",
   "execution_count": 33,
   "id": "a662e7e4-3dc9-4d21-a3cb-fe31ed58860e",
   "metadata": {
    "pycharm": {
     "name": "#%%\n"
    }
   },
   "outputs": [],
   "source": [
    "def summarize(text, model, tokenizer, max_input_length=1024, max_new_tokens=512):\n",
    "    input_ids = tokenizer(\n",
    "         text, return_tensors=\"pt\",\n",
    "        max_length=max_input_length\n",
    "    ).input_ids  # Batch size 1\n",
    "    outputs = model.generate(input_ids=input_ids.to('cuda'), max_new_tokens=max_new_tokens)\n",
    "    print(tokenizer.decode(outputs[0], skip_special_tokens=True))"
   ]
  },
  {
   "cell_type": "code",
   "execution_count": 34,
   "id": "1abef714-4b2c-4072-9d9f-5d3105aceb3e",
   "metadata": {
    "pycharm": {
     "name": "#%%\n"
    }
   },
   "outputs": [
    {
     "name": "stdout",
     "output_type": "stream",
     "text": [
      "Hendrik Kaljujärve muusikaline kujundus ## Debüüt \"Ise-organiseeruv süsteem\" NO99 teatris ## Masinate ja helide eristamine ## Muusikaline kujundus lavastusele ## Muusikaline kujundus lavastusele\n"
     ]
    }
   ],
   "source": [
    "summarize(test_dataset[0]['text'], model, tokenizer)"
   ]
  },
  {
   "cell_type": "code",
   "execution_count": 37,
   "id": "f09bfb4e-be21-4ac6-bd1f-2391d2696217",
   "metadata": {
    "pycharm": {
     "name": "#%%\n"
    }
   },
   "outputs": [
    {
     "name": "stdout",
     "output_type": "stream",
     "text": [
      "a dog is a good pet to us ## owning a dog is a good for You\n"
     ]
    }
   ],
   "source": [
    "summarize(\"studies have shown that owning a dog is good for you\", model, tokenizer)"
   ]
  },
  {
   "cell_type": "code",
   "execution_count": 35,
   "id": "0f3db771-290b-40d7-b4df-c67a35a22156",
   "metadata": {
    "pycharm": {
     "name": "#%%\n"
    }
   },
   "outputs": [
    {
     "name": "stdout",
     "output_type": "stream",
     "text": [
      "Arendusdirektori ametikoha konkursitingimused ## Koostöö kolleegidega ja koostöö kunstnikkonnaga ## Kumu avamine ja Euroopa uuendusprogrammid ## Kunstivaldkonna arendamine ja nüüdiskunsti tähtsus ## Kunstivaldkonna kvaliteedi ja kvaliteedi parandamine\n"
     ]
    }
   ],
   "source": [
    "summarize(test_dataset[1]['text'], model, tokenizer)"
   ]
  },
  {
   "cell_type": "code",
   "execution_count": 36,
   "id": "d05e6bc2-b2b6-4c26-80f1-68db8f856548",
   "metadata": {
    "pycharm": {
     "name": "#%%\n"
    }
   },
   "outputs": [
    {
     "name": "stdout",
     "output_type": "stream",
     "text": [
      "kõrgharitud tööjõu ühiskondlik kasu ## kõrgharidusega lõpetajate kõrge töötus ## maksumaksja raha kulukus hariduse rahastamisele ## kutsehariduse tähtsus tööturul ## vajadus ühiskondliku toetuse järele\n"
     ]
    }
   ],
   "source": [
    "summarize(test_dataset[2]['text'], model, tokenizer)"
   ]
  },
  {
   "cell_type": "code",
   "execution_count": 38,
   "id": "704244c5-f2e4-4cbb-bf1c-1a03b7b1bb7d",
   "metadata": {
    "pycharm": {
     "name": "#%%\n"
    }
   },
   "outputs": [
    {
     "data": {
      "text/plain": [
       "'kõrgharidusega töötajate olulisus ## väike töötus kõrgkoolilõpetajate seas ## enamik töötab haridusele vastaval ametikohal ## kutsehariduse ja kõrghariduse piiride ähmastumine ## vajadus haridussüsteemi optimeerimise järele'"
      ]
     },
     "execution_count": 38,
     "metadata": {},
     "output_type": "execute_result"
    }
   ],
   "source": [
    "test_dataset[2]['bulletpoints']"
   ]
  },
  {
   "cell_type": "code",
   "execution_count": 39,
   "id": "e6fed8cf-7f75-438d-afe7-670ffda1b007",
   "metadata": {
    "pycharm": {
     "name": "#%%\n"
    }
   },
   "outputs": [
    {
     "name": "stdout",
     "output_type": "stream",
     "text": [
      "Koonderakond kaotas tiitli SDP-le ## SDP kaotas tiitli tiitli tõusule ## Koonderakond kaotas tiitli tiitli tõusule ## Põlissoomlased ja Põlissoomlased toetused ## Põlissoomlased ja Põlissoomlased toetused\n"
     ]
    }
   ],
   "source": [
    "input_text=\"\"\"Veel veebruaris oli Soome kõige populaarsem partei Koonderakond, kuid kaotas märtsis selle tiitli SDP-le. Märtsis langes peaministripartei  toetus ühe protsendi võrra ning Koonderakonna toetus on nüüd 20,6 protsenti.\n",
    "SDP suurendas toetust naiste ja noorte hulgas. Märtsis tõusis SDP toetus 1,9 protsenti ning erakonna toetus on nüüd 21,7 protsenti. \n",
    "Koonderakonna kannul on Põlissoomlased, rahandusminister Riikka Purra kodupartei toetus on 17,4 protsenti.\"\"\"\n",
    "summarize(input_text, model, tokenizer)"
   ]
  },
  {
   "cell_type": "code",
   "execution_count": 40,
   "id": "9efa6168-0549-4bdc-9ea4-881e9d0b850b",
   "metadata": {
    "pycharm": {
     "name": "#%%\n"
    }
   },
   "outputs": [
    {
     "name": "stdout",
     "output_type": "stream",
     "text": [
      "Tallinna Pimedate Ööde filmifestivalil ## Allegooriliste eneseotsingute triloogia ## Kunsti ja kultuurimüüdi edasiarendus ## Huumori ja inimlikkuse tähtsus ## Pimedate Ööde filmifestivali eesmärgid\n"
     ]
    }
   ],
   "source": [
    "summarize(test_dataset[3]['text'], model, tokenizer)"
   ]
  },
  {
   "cell_type": "code",
   "execution_count": 42,
   "id": "cbe0a026-20dc-4fc7-8171-0003aea974c3",
   "metadata": {
    "pycharm": {
     "name": "#%%\n"
    }
   },
   "outputs": [
    {
     "data": {
      "text/plain": [
       "'Valgusetooja ja kolm lugu paradiisist — Sirp\\nGust van der Berghe: \"Filmi tehes tuleb igal hetkel teha esteetilisi valikuid.\"\\n\"Kui ma magama jään, siis on see tule pärast. Ära isiklikult võta,\" viitab Gust van der Berghe kamina suunas. Tuli ja valgus on alati tähtsal kohal selle prillidega vahetu ja tagasihoidliku olemisega mehe filmides. Teda vaadates on raske uskuda, et selles inimeses võiks olla impulss teha nii julgeid ja intuitiivseid teoseid. Gust van der Berghe on Tallinnas Pimedate Ööde filmifestivalil esindamas oma uut mängufilmi \"Lutsifer\" (\"Lucifer\", 2014), mis on kindlasti üks selle aasta tähelepanuväärsemaid. \"Lutsifer\" võtab kokku allegooriliste eneseotsingute triloogia, mis mõjub oma siiruses täiesti anakronistlikuna. Esmafilmis \"Flandria Jeesuslapsuke\" (\"En waar de sterre bleef stille staan\", 2010) on ta pannud Jeesuslapse sünni loos kolme kuningat mängima Downi sündroomiga lapsed, teises filmis \"Sinilind\" (\"Blue Bird\", 2012) on ta lavastanud Maurice Maeterlincki muinasjutu sürrealistliku mõistuloona Aafrikas ja \"Lutsiferis\" räägib inimese pattulangemise loo uuel viisil, mis meenutab filmikunsti kunagisi kuldaegu, kui seansi lõppedes jäi inimestel ruumi ka oma mõttele ja arvamusele. Van der Berghe filmid on kohati keerukatest vormilistest otsustest ja sümbolistlikust filmikeelest hoolimata väga lihtsad. \"Ma pidin tegema ringikujulise filmi, et Tallinna kohale jõuda,\" ütleb ta muiates.\\nKas \"Lutsifer\" on esimene ringikujuline film? See on justkui viide nii maailma loomisele kui eluringile … Miks otsustasid sellise lahenduse kasuks?\\nSee on lihtne vorm. Kunsti ülesanne peakski olema öelda asju lihtsal viisil, aga tõlgendusele avatult. Muidu võid võimalike tehniliste lahenduste matemaatikasse täiesti ära eksida. Ma läksin tagasi renessansiajastusse ning püüdsin mõista selle perioodi kunstniku, aga ka teadlase mõtteviisi. On väga huvitav, kuidas sel ajal on käsitletud paradiisi ja pattulangemise temaatikat. Film põhinebki Hollandi XVII sajandi näitekirjaniku Joost van den Vondeli samanimelisel näidendil. Nagu hollandikeelne Shakespeare. Kuigi ma ausalt öelda ei lugenud seda üldse läbi, sest see oli liiga keeruline, aga tahan sellele siiski viidata kui inspiratsiooniallikale.\\n\"Lutsifer\" on justkui väga tuttava kultuurimüüdi edasiarendus. Üleloomulik trikster, ingel või kurat, tuleb linna ja keerab inimeste elu pea peale. Räägime kas või \"Meistrist ja Margaritast\", Pasolini \"Teoreemist\" (\"Teorema\", 1968) või sinu naabri, hollandlase Alex van Warmerdami \"Borgmanist\" (2013). Kuidas sa sellesse sugupuusse suhtud?\\nSinu nimetatud filmid mulle eriti ei meeldi. Võib-olla võiks Pasolinile nüüd uue võimaluse anda, kui olen ka teinud filmi sellel teemal. Mulle on põhiline lisada sellesse loosse huumor, mis on otsekui inimlikkuse kohaloleku kinnitus.\\n\"Borgman\" on küll naljakas, aga seal tekib mul keeleprobleem. Flaami näitlejad räägivad hollandi keelt ja ma lihtsalt ei jää seda uskuma.\\nSinu filmides on huumor alati kohal, aga mitte otseselt esil.\\nParim nali on selline, mis näeb välja nagu juhus – see justkui polekski pidanud naljakas olema. Mulle meeldib vaadata ka nn suurt huumorit, aga siin püüdsin säilitada realistliku raami. Suurte naljade ja suurte lugude väikesed versioonid.\\nMis sind paelus selle motiivi juures? Võluv võõras saabub eikuskilt ja paljastab rahvale nende vead, suunates neile peegli näkku.\\nMingis mõttes olen ma teinud ise ju sedasama: lähen kuskile filmima ja räägin kohalikele lugusid sellest, mida ma soovin. Panen nende pähe oma filmireaalsuse. Loos olen alati kindel, aga mitte viisis, kuidas seda jutustada. Kõik mu kolm filmi on rääkinud paradiisist.\\nNii et sinu meelest moodustavad need triloogia?\\nMuidugi. Kõigi kolme teema on sarnane. Seekord polnud lugu isegi oluline, vaid pigem motiiv. Vaataja peaks tajuma nende filmide sarnast olekut.\\nMa kutsun oma esimest filmi \"punktiks\": film ei liigu kuskile, näitlejate meeleseisund on püsiv, ühtlasi igavene ning murdumatu. Teine film kulgeb nagu joon, rännak, mida püüdsin ka visuaalselt edasi anda. Nüüd olen tagasi punkti juures. Sündmused leiavad küll aset, aga me jälgime lihtsalt nende kulgu, seda, kuidas kõik kokku variseb. Aeg ja ruum on konkreetsed.\\nMa olen \"Luciferi\" komplekssuse üle väga uhke. Vahel tundub, et seda on isegi veidi liiast, aga on elemente ja motiive, mis triloogia raames kaovad, naasevad ja korduvad.\\nKas sul on tunne, et filmides ei ole tänapäeval enam piisavalt imelisust ega imesid?\\nAbsoluutselt. Seetõttu on mu filme väga raske müüa või inimestele selgitada. Ma tunnen, et mul pole vaja seda teha. Inimesed peaksid meeldimise korral mu kunsti võtma sellisena, nagu ta on.\\nSee on ka seotud minu filmides korduva paradiisi motiiviga. Mul ei ole paradiisist sooja ega külma, aga seistes näiteks mõne võrratu maali ees, kogen ma kaht emotsiooni: üks on justkui imet\\xadtegev, pühalik tunne, mis loob seose paradiisiga. Ent mind valdab see\\xadjuures kurbus, sest tunnen, et tegemist on millegi igaveseks kaotatuga. Ma ei püüa teha filme imedest, sest need oleksid kohutavad filmid. Ma püüan lihtsalt olla ja näidata.\\nBelgia kõige tuntumad ja hinnatumad filmitegijad vennad Dardennes\\'id on valinud sinu omast sootuks vastupidise tee.\\nTäiesti vastupidise. Mulle meeldivad nende tööd ja ka enda omad. Asi on pigem selles, et vaataja või näiteks festivaližüriini jõudmiseks on vaja teha kompromisse. Päriselu kujutavas filmis pole see niivõrd teema, aga minu filmide puhul … Arvan, et need vajavad lihtsalt aega. Võib-olla pean ma enne ära surema.\\nSelles võrdluses on üsna hästi näha, millist filmikunsti ootab Euroopa. Pigem realistlikku kui fantastilist.\\nBelgia ajalehes oli pommuudis, et Dardennes\\'id kasutasid oma filmis seekord muusikat. Vau, muusikat! Järelikult on see rõõmus film! Kõik on nii tõsised – ja ka auhindu ei tohiks kaugeltki nii tõsiselt võtta, kui seda tehakse. Mul on vajalik tunnustus olemas ka ilma nendeta, kahju ainult, et me ei saanud \"Lutsiferile\" korralikku maailma esilinastust. Cannes seda ei võtnud (seal esilinastusid mõlemad van der Berghe eelmised filmid – toim) ja nii Berliin kui Veneetsia lausa vihkasid seda filmi. Kahju, aga eks me näeme, kuidas tal nüüd minema hakkab.\\nGust van der Berghe on \"Lutsiferi\" tiitrites ühe eeskujuna maininud Hieronymus Boschi, kes kujutas oma maalidel nii taevast,\\nmaad kui põrgut ringikujulisena.\\nTänapäeval on üldse haruldane näidata filmides midagi üleloomulikku või allegoorilist.\\nMaagia kadumisele aitab kaasa ka nii tehnika areng kui meedia pealetung. Ainus asi, mida me kogeme enda ümber, on reaalsus. Selle tõttu oleme me tegelikult lakanud uskumast seda, mida me näeme. On väga oluline püüda hoida teatud võlu, loojutustamise reegleid, pildikvaliteeti. Ma ei kopeeri renessansikunstnikke, aga ma vaatan nende ideid ja tööriistu ning püüan neid kaasajastada.\\nKui ringiga ringi juurde tagasi tulla, siis miks on pilt ringikujuline?\\nMa seisin Mehhikos vulkaani põhjas ja vaatasin üles. Mida ma nägin, oli kraatriserv ehk maa, ümbritsemas taevast. Taevas oli justkui maa vangistuses, suletud. Ma mõistsin, et kui ma seda efekti filmis kasutada ei saa, siis pole mõtet seda filmi teha.\\nKuidas sa selle efekti saavutasid? Milliseid tööriistu sa seejuures kasutasid?\\nMe pidime looma kaamera prototüübi, et \"Lutsiferi\" filmida. Me võtsime peegelkoonuse, selle külge panime klaastoru ja toru teise otsa kaamera. Sellega on võimalik filmida 360° ümmargust panoraampilti. Professorid aitasid optika välja mõelda ja läätsed on sellised, et stseeni valgustamiseks piisab vaid ühest küünlast, nagu on näha ka filmi ühes murrangulises kaadris. Valgus paistab selle optikaga filmituna täiesti teistsugune, sest läätsed on väga valgustundlikud.\\nPanime leiutise nimeks Tondoscope.\\nSinu filme pole üldse saada. On keegi nad üldse välja andnud?\\nVaatame, mis sellest saab, sest ma olen kategooriliselt DVDde vastu. Neil pole mingit väärtust. Film ise on veel endiselt väga väärtuslik. Mul on plaanis teha suur fotoraamat, panna sinna tekstikatked, muusika ja ka filmide DVDd. Tahaks teha midagi ilusat. Ja tahaks kõik kolm filmi ühe paketina välja anda.\\nKas Lutsifer kui mütoloogiline tegelane on sulle sümpaatne?\\nJaa, kindlasti. Mitte mingist satanismist, aga minu meelest on tema müüt väga ilus. Ta on inimesele lähemal kui Miikael või Gaabriel. Ta hoolib inimese tegemistest ja on teistest ausam, aga ka uhkem. Lutsifer polnud küll algselt inimese pattulangemise otseseks põhjustajaks, aga ma muutsin veidi seda piiblilugu. Algses loos on kolm deemonit, Lutsifer, Belial ja Peeltsebul. Lutsifer erines teistest, temas oli õrnust. Filmis on näha tegelasi, kes on temast märksa halvemad, näiteks pidevalt naeratav valehammastega mees.\\nMiks sa otsustasid \"Lutsiferi\" Mehhikos üles võtta?\\nSeal on maailma kõige noorem vulkaan ja ma läksin seda vaatama. Mehhiko elus on sürrealismi, mis sarnaneb väga Belgia omaga. Me sobime täiuslikult. Asjad klappisid kokku. Vulkaan on väga huvitav nähtus, see hõlmab mingil moel nii lõppu kui algust. Sattusin ühte külasse, kus inimesed olid nii põikpäised, et kui vulkaan purskama hakkas, keeldusid nad külast lahkumast. See näitab nende olemust: nad keelduvad muutustega kaasa minemast. Kui kogu Mehhiko on tänapäevane, siis nemad elavad väga arhailiselt. Nad imiteerivad järjekindlalt mingit traditsiooni, mida tegelikult pole enam olemas. Nad justkui ootaksid hetke, mil see kõik kokku kukub, nagu ootavad inimesed \"Lutsiferis\" tegelikult paradiisi kollapsit.\\nTänavaruuporitest hoovas seal pidevalt mingit müra ja kogu see koht sarnanes oma absurdsuses pigem põrgu kui paradiisiga.\\nLutsifer tähendab valgusetoojat. Filmis ütleb noor Maria: \"Ma tahan tuua inimestele valgust.\" Kas nende kahe tegelase vahel on mingi kummaline seos?\\nValgus ongi siduv seos, see, mis on hetkede vahel. See võib olla küünal, aga ka see siin (viitab kaminale – toim). See võib sind põletada. \"Sinilinnus\" põles maa. Minule tähendab see millegi kadumist. Valgus seob, aga ka lahutab. See võib tuua nii valguse ja valgustatuse kui ka hävingu.\\nValgus (valgustatus) lahutas inimese paradiisist ja pani minu arvates aluse elule, sest elu aluseks on hea ja kurja vastasseis. Enne seda inimese elukohaks olnud paradiis on minu arvates väga ebahuvitav koht. Suletud, hirmus, fašistlik paik.\\nKui inimsugu ja elu sai alguse pattulangemisega, siis tundub, et \"Lutsiferi\" külaelanikud ei suuda muutusega toime tulla.\\nTegelased ei muutunudki, küll aga see, kuidas nad üksteist näevad. Nende omavaheline suhe. Toon muutub ka filmi jooksul pidevalt: kergest komöödiast realistlikumaks ja lõpuks päris sürrealistlikuks.\\nKas sa mõistad nad hukka või pigem toetad neid?\\nEi kumbagi. See ei ole mulle nii oluline. Mind huvitab pigem brueghellik vaade, üldisem pilt. Bruegheli pilte vaadates ei räägi keegi tegelaste emotsioonidest. Nendes on midagi suuremat. Sind valdab pigem kohalolekutunne, et kuulud nendega koos sama taeva alla.\\nAga inimkonna saatus on sulle ikka oluline?\\nJah, ka filmis, kuigi ma vaatlen neid n-ö linnu rakursist. Nad tegutsevad ju armastuse nimel ja ma ei pea seda väga kurvaks filmiks, ka lõpus on kurbus segunenud rõõmuga.\\n\"Lutsifer\" on justkui piibliteemade kollaaž, viited Paabeli tornile, vee peal kõndimisele, Kolgata teele … Mis tõmbab sind religioossete teemade poole?\\nÜldiselt öeldes on asi juurtes. Paljud meie lood ja ka meie tänapäev põhinevad suuresti neil lugudel. Mul pole plaanis katoliku kirikut ei kaitsta ega hävitada, oluline on religiooni juures hoida elus seda, mis on meeldiv ja äge. Mulle on selleks elemendiks lood. Ma ei käi kirikus, aga naudin mõnd religiooni aspekti väga. Käisin täna Tallinna Püha Vaimu kirikus, teenistus oli just alanud. Istusin ja veidi aja pärast hakkas koor laulma minu kohal, nii et ma neid ei näinud. See kogemus on vabalt võrreldav filmikunstiga.\\nJa ka sellesama ime temaatikaga?\\nJah, ja siin pole küsimus enam tingimata usus. Imetlusega kirikut vaadates mõistad, et selle on teinud inimene. Kirik pole püha mitte sellepärast, et see on jumalakoda, vaid sest see on meie tehtud! Parim muusika on tehtud jumalasse, millessegi uskudes.\\nEestlased peavad end uhkusega paganateks, aga selle tulemusena ei saa me vahel lihtsatest kultuurimärkidest aru ega oska tegelikult õhtumaa kultuuri tõlgendada. Kuidas on lood Belgias?\\nKes olen mina, et Belgia kohta arvamust avaldada? Ma olen liiga noor ja minu kogemus erineb mu vanemate omast täiesti. 1950-60ndatel valitses täielikult katoliku kirik. Kuuekümnendatel lagunes see kõik muidugi üsna kiiresti laiali ja uus põlvkond pole ei kiriku vastu ega poolt. Kirikud on küll tühjad, aga ma ei nimetaks inimesi ka paganateks. Minu meelest väga huvitav õhkkond religioonist rääkimiseks ja selle kujutamiseks. Mulle tundub, et paljud inimesed vaatavad mu filme avatult: nad suudavad tänu oma taustale filmi teemaga suhestuda, ega ole nähtu üle vihased. Mehhikos on muidugi teine lugu.\\nKas nad võtavad seda tõsisemalt?\\nUhh … Kuskil külas \"Lutsiferi\"-nimelise filmi tegemine osutus ikka väga keeruliseks. Õnnetuseks ma lobisesin neile filmi pealkirja kohe välja ja nägin nende reaktsioonist, et oleks selle pigem pidanud saladuseks jätma. Suur viga. Olin kohaliku preestriga hea sõber ja teda hakati sellepärast satanismis süüdistama.\\nKõik sinu filmid esitavad mingi väljakutse filmikoodidele nagu koloriit, kompositsioon, narratiiv jne. Kas see on teadlik lõhkumine?\\nMa tahan lihtsalt olla aus ja mulle on see kõik täiesti loogiline. Ma monteerin ülikiiresti. Filmi tehes tuleb igal hetkel teha esteetilisi valikuid – õige või vale. Ma lihtsalt usaldan oma intuitsiooni.\\nSu filme on väga raske üles leida. Kellele need kuuluvad?\\nÕigused on minul aga ma andsin kõigi oma filmide õigused vabaks. See taktika on ennast ära tasunud: \"Flandria Jeesuslapsukest\" näidatakse regulaarselt kinos igal kolmekuningapäeval. Igaühel on õigus küsida minult linastuskoopiat ja luba mu filme näidata. Annan need tihti tasuta, aga nõudega, et linastuse juurde peab korraldama ka midagi lisaks, tegema sellest sündmuse. Vahel küsime ka pisut raha, et uusi koopiaid teha, aga vastu anname terve paketi: plakatid, taustamaterjalid ja muu.\\nMuusikaäris on juba tavaline teha uus muusika tasuta allalaetavaks. Sina justkui näitad sellele mudelile teed filmimaailmas.\\nÜkski müügiagent ei lubaks seda iial, aga ma olen oma filmide Beneluxi maade õigused alati endale jätnud, nii et neis riikides võime teha, mida tahame. Ma võin anda oma filmid tasuta kasutada, aga ma lihtsalt ei taha, et neid vaadataks failidena või DVD pealt.'"
      ]
     },
     "execution_count": 42,
     "metadata": {},
     "output_type": "execute_result"
    }
   ],
   "source": [
    "test_dataset[3]['text']"
   ]
  },
  {
   "cell_type": "code",
   "execution_count": 41,
   "id": "bb1d6d81-39ee-4ec9-9db1-75aec9f64bc9",
   "metadata": {
    "pycharm": {
     "name": "#%%\n"
    }
   },
   "outputs": [
    {
     "data": {
      "text/plain": [
       "'Gust van der Berghe - Belgia filmirežissöör ## Allegooriline triloogia - \"Lutsifer\" lõpetab sarja ## Esteetilised ja intuitiivsed valikud ## Maagia ja imelisuse säilitamine filmis ## Uuenduslik levitamisviis - tasuta linastused'"
      ]
     },
     "execution_count": 41,
     "metadata": {},
     "output_type": "execute_result"
    }
   ],
   "source": [
    "test_dataset[3]['bulletpoints']"
   ]
  },
  {
   "cell_type": "markdown",
   "id": "d1bc011e-5f44-4116-98bf-12355672707f",
   "metadata": {
    "pycharm": {
     "name": "#%% md\n"
    }
   },
   "source": [
    "## visualize logs"
   ]
  },
  {
   "cell_type": "code",
   "execution_count": 24,
   "id": "440b1013-0a24-442d-9196-0cd836826058",
   "metadata": {
    "pycharm": {
     "name": "#%%\n"
    }
   },
   "outputs": [],
   "source": [
    "import tensorflow as tf\n",
    "import numpy as np\n",
    "import pandas as pd\n",
    "import matplotlib.pyplot as plt\n",
    "from tensorboard.backend.event_processing import event_accumulator\n",
    "\n",
    "# Path to your TensorBoard log files\n",
    "log_path = 'mt5-base-TalTechNLP/LongSumEt/logs/events.out.tfevents.1713270009.2ca00bef5a11.196474.0'\n"
   ]
  },
  {
   "cell_type": "code",
   "execution_count": 26,
   "id": "dea74bd7-6892-4027-9462-2ab445736cc2",
   "metadata": {
    "pycharm": {
     "name": "#%%\n"
    }
   },
   "outputs": [
    {
     "name": "stdout",
     "output_type": "stream",
     "text": [
      "Data for tag: train/loss\n",
      "Data for tag: train/learning_rate\n",
      "Data for tag: train/epoch\n",
      "Data for tag: eval/loss\n",
      "Data for tag: eval/rouge1\n",
      "Data for tag: eval/rouge2\n",
      "Data for tag: eval/rougeL\n",
      "Data for tag: eval/rougeLsum\n",
      "Data for tag: eval/gen_len\n",
      "Data for tag: eval/runtime\n",
      "Data for tag: eval/samples_per_second\n",
      "Data for tag: eval/steps_per_second\n",
      "Data for tag: train/train_runtime\n",
      "Data for tag: train/train_samples_per_second\n",
      "Data for tag: train/train_steps_per_second\n",
      "Data for tag: train/total_flos\n",
      "Data for tag: train/train_loss\n"
     ]
    },
    {
     "data": {
      "text/html": [
       "<div>\n",
       "<style scoped>\n",
       "    .dataframe tbody tr th:only-of-type {\n",
       "        vertical-align: middle;\n",
       "    }\n",
       "\n",
       "    .dataframe tbody tr th {\n",
       "        vertical-align: top;\n",
       "    }\n",
       "\n",
       "    .dataframe thead th {\n",
       "        text-align: right;\n",
       "    }\n",
       "</style>\n",
       "<table border=\"1\" class=\"dataframe\">\n",
       "  <thead>\n",
       "    <tr style=\"text-align: right;\">\n",
       "      <th></th>\n",
       "      <th>Step</th>\n",
       "      <th>train/train_loss</th>\n",
       "    </tr>\n",
       "  </thead>\n",
       "  <tbody>\n",
       "    <tr>\n",
       "      <th>0</th>\n",
       "      <td>38952</td>\n",
       "      <td>2.3691</td>\n",
       "    </tr>\n",
       "  </tbody>\n",
       "</table>\n",
       "</div>"
      ],
      "text/plain": [
       "    Step  train/train_loss\n",
       "0  38952            2.3691"
      ]
     },
     "execution_count": 26,
     "metadata": {},
     "output_type": "execute_result"
    }
   ],
   "source": [
    "def load_tensorboard_data(event_file_path):\n",
    "    # Initialize an EventAccumulator with size_guidance for auto loading of all data\n",
    "    ea = event_accumulator.EventAccumulator(event_file_path,\n",
    "        size_guidance={\n",
    "            event_accumulator.SCALARS: 0,\n",
    "            event_accumulator.IMAGES: 0,\n",
    "            event_accumulator.AUDIO: 0,\n",
    "            event_accumulator.HISTOGRAMS: 0,\n",
    "            event_accumulator.TENSORS: 0,\n",
    "        })\n",
    "\n",
    "    # Load the data\n",
    "    ea.Reload()\n",
    "\n",
    "    # Data extraction examples\n",
    "    data = {}\n",
    "\n",
    "    # Extract scalars to a DataFrame\n",
    "    for tag in ea.Tags()['scalars']:\n",
    "        events = ea.Scalars(tag)\n",
    "        data[tag] = pd.DataFrame([(e.step, e.value) for e in events], columns=['Step', tag])\n",
    "\n",
    "    # Extend this part to handle histograms, images, etc., as needed\n",
    "\n",
    "    return data\n",
    "\n",
    "data = load_tensorboard_data(log_path)\n",
    "# Example to print the available scalar tags and their first few values\n",
    "for tag, df in data.items():\n",
    "    print(f\"Data for tag: {tag}\")\n",
    "    # print(df.head())\n",
    "    \n",
    "df"
   ]
  },
  {
   "cell_type": "code",
   "execution_count": 27,
   "id": "57b9ca41-be33-4c72-8fd0-c00dae760455",
   "metadata": {
    "pycharm": {
     "name": "#%%\n"
    }
   },
   "outputs": [
    {
     "data": {
      "text/plain": [
       "<AxesSubplot:>"
      ]
     },
     "execution_count": 27,
     "metadata": {},
     "output_type": "execute_result"
    },
    {
     "data": {
      "image/png": "[encoded data removed]",
      "text/plain": [
       "<Figure size 432x288 with 1 Axes>"
      ]
     },
     "metadata": {
      "needs_background": "light"
     },
     "output_type": "display_data"
    }
   ],
   "source": [
    "data['eval/loss']['eval/loss'].plot()"
   ]
  },
  {
   "cell_type": "code",
   "execution_count": 28,
   "id": "607e5a1c-e9f4-40b3-a9f1-199dade6efa9",
   "metadata": {
    "pycharm": {
     "name": "#%%\n"
    }
   },
   "outputs": [
    {
     "data": {
      "text/plain": [
       "<AxesSubplot:>"
      ]
     },
     "execution_count": 28,
     "metadata": {},
     "output_type": "execute_result"
    },
    {
     "data": {
      "image/png": "[encoded data removed]",
      "text/plain": [
       "<Figure size 432x288 with 1 Axes>"
      ]
     },
     "metadata": {
      "needs_background": "light"
     },
     "output_type": "display_data"
    }
   ],
   "source": [
    "data['eval/rouge1']['eval/rouge1'].plot()"
   ]
  },
  {
   "cell_type": "code",
   "execution_count": 29,
   "id": "d78d17dd-1ecd-44e8-a881-60f513f50ffa",
   "metadata": {
    "pycharm": {
     "name": "#%%\n"
    }
   },
   "outputs": [
    {
     "data": {
      "text/plain": [
       "25.808300018310547"
      ]
     },
     "execution_count": 29,
     "metadata": {},
     "output_type": "execute_result"
    }
   ],
   "source": [
    "data['eval/rouge1']['eval/rouge1'].max()"
   ]
  },
  {
   "cell_type": "code",
   "execution_count": 30,
   "id": "2c0d0db2-ac2c-4fb3-963e-d9c7d3076f03",
   "metadata": {
    "pycharm": {
     "name": "#%%\n"
    }
   },
   "outputs": [
    {
     "data": {
      "text/plain": [
       "<AxesSubplot:>"
      ]
     },
     "execution_count": 30,
     "metadata": {},
     "output_type": "execute_result"
    },
    {
     "data": {
      "image/png": "[encoded data removed]",
      "text/plain": [
       "<Figure size 432x288 with 1 Axes>"
      ]
     },
     "metadata": {
      "needs_background": "light"
     },
     "output_type": "display_data"
    }
   ],
   "source": [
    "data['eval/rouge2']['eval/rouge2'].plot()"
   ]
  },
  {
   "cell_type": "code",
   "execution_count": null,
   "id": "5df0669d-a934-44aa-a42a-21f4fbfbb1c8",
   "metadata": {
    "pycharm": {
     "name": "#%%\n"
    }
   },
   "outputs": [],
   "source": []
  }
 ],
 "metadata": {
  "kernelspec": {
   "display_name": "Python 3 (ipykernel)",
   "language": "python",
   "name": "python3"
  },
  "language_info": {
   "codemirror_mode": {
    "name": "ipython",
    "version": 3
   },
   "file_extension": ".py",
   "mimetype": "text/x-python",
   "name": "python",
   "nbconvert_exporter": "python",
   "pygments_lexer": "ipython3",
   "version": "3.9.7"
  }
 },
 "nbformat": 4,
 "nbformat_minor": 5
}