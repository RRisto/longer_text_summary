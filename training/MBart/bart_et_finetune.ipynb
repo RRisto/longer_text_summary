{
 "cells": [
  {
   "cell_type": "code",
   "execution_count": 1,
   "id": "fde883fd-1389-47af-a85d-c9eb670dcd9c",
   "metadata": {
    "pycharm": {
     "name": "#%%\n"
    }
   },
   "outputs": [
    {
     "name": "stderr",
     "output_type": "stream",
     "text": [
      "[nltk_data] Downloading package punkt to /home/risto/nltk_data...\n",
      "[nltk_data]   Package punkt is already up-to-date!\n"
     ]
    },
    {
     "data": {
      "text/plain": [
       "True"
      ]
     },
     "execution_count": 1,
     "metadata": {},
     "output_type": "execute_result"
    }
   ],
   "source": [
    "import torch\n",
    "from transformers import AutoTokenizer, AutoModelForSeq2SeqLM, EarlyStoppingCallback, MBartConfig\n",
    "from transformers import MBartForConditionalGeneration, MBartTokenizerFast,MBartTokenizer,Trainer, TrainingArguments\n",
    "\n",
    "from transformers import DataCollatorForSeq2Seq\n",
    "from hftrim.TokenizerTrimmer import TokenizerTrimmer\n",
    "from hftrim.ModelTrimmers import MBartTrimmer\n",
    "\n",
    "from transformers import PreTrainedTokenizerFast\n",
    "# from transformers.convert_slow_tokenizer import convert_slow_tokenizer\n",
    "from huggingface_hub import HfFolder\n",
    "from transformers import Seq2SeqTrainer, Seq2SeqTrainingArguments\n",
    "from datasets import load_dataset\n",
    "from datasets import concatenate_datasets\n",
    "from random import randrange\n",
    "import evaluate\n",
    "import nltk\n",
    "import numpy as np\n",
    "from collections import Counter\n",
    "from nltk.tokenize import sent_tokenize\n",
    "nltk.download(\"punkt\")"
   ]
  },
  {
   "cell_type": "code",
   "execution_count": 2,
   "id": "902452d9-f3c2-4085-8fa6-5c7eaf94ea14",
   "metadata": {
    "pycharm": {
     "name": "#%%\n"
    }
   },
   "outputs": [],
   "source": [
    "# !pip install peft"
   ]
  },
  {
   "cell_type": "code",
   "execution_count": 3,
   "id": "0d3ccec9-1a90-4e52-93df-277c06e0dedd",
   "metadata": {
    "pycharm": {
     "name": "#%%\n"
    }
   },
   "outputs": [],
   "source": [
    "# !pip install nltk"
   ]
  },
  {
   "cell_type": "code",
   "execution_count": 4,
   "id": "53e69b14-4a03-463e-b71b-79c6b800edc1",
   "metadata": {
    "pycharm": {
     "name": "#%%\n"
    }
   },
   "outputs": [],
   "source": [
    "# !pip install evaluate"
   ]
  },
  {
   "cell_type": "code",
   "execution_count": 5,
   "id": "edf42950-9405-4d2a-bb56-46991f67c626",
   "metadata": {
    "pycharm": {
     "name": "#%%\n"
    }
   },
   "outputs": [],
   "source": [
    "# !pip install rouge_score"
   ]
  },
  {
   "cell_type": "code",
   "execution_count": 6,
   "id": "68c325f1-27e3-46af-9918-72289c66fad8",
   "metadata": {
    "pycharm": {
     "name": "#%%\n"
    }
   },
   "outputs": [],
   "source": [
    "# !pip install py7zr"
   ]
  },
  {
   "cell_type": "code",
   "execution_count": 7,
   "id": "9758d323-6b9d-4bdf-9ae1-19aaebb450a0",
   "metadata": {
    "pycharm": {
     "name": "#%%\n"
    }
   },
   "outputs": [],
   "source": [
    "# !pip install transformers --upgrade"
   ]
  },
  {
   "cell_type": "markdown",
   "id": "bb6685f2-29ac-4018-9486-b33f823f014a",
   "metadata": {
    "pycharm": {
     "name": "#%% md\n"
    }
   },
   "source": [
    "## model"
   ]
  },
  {
   "cell_type": "code",
   "execution_count": 9,
   "id": "9ef187b1-9e0e-44ea-bf56-2c1b114dc6cd",
   "metadata": {
    "pycharm": {
     "name": "#%%\n"
    }
   },
   "outputs": [],
   "source": [
    "model_id=\"facebook/mbart-large-cc25\"\n",
    "src_lang = \"et_EE\" # Example source language code\n",
    "tgt_lang = \"et_EE\" # Example target language code"
   ]
  },
  {
   "cell_type": "code",
   "execution_count": 9,
   "id": "0df83dd6-353c-4e01-874b-1fb76d377560",
   "metadata": {
    "pycharm": {
     "name": "#%%\n"
    }
   },
   "outputs": [],
   "source": [
    "tokenizer = MBartTokenizerFast.from_pretrained(model_id)\n",
    "tokenizer_slow = MBartTokenizer.from_pretrained(model_id)\n",
    "model = MBartForConditionalGeneration.from_pretrained(model_id)"
   ]
  },
  {
   "cell_type": "code",
   "execution_count": 10,
   "id": "f0fe507c-b7b8-48ca-b7c5-3a5fbf57ab38",
   "metadata": {
    "pycharm": {
     "name": "#%%\n"
    }
   },
   "outputs": [],
   "source": [
    "# Important: Set both source and target languages\n",
    "tokenizer.src_lang = src_lang\n",
    "tokenizer.tgt_lang = tgt_lang\n",
    "\n",
    "tokenizer_slow.src_lang = src_lang\n",
    "tokenizer_slow.tgt_lang = tgt_lang"
   ]
  },
  {
   "cell_type": "code",
   "execution_count": 11,
   "id": "b0e0b57c-46de-424e-81a8-e67640e0d45e",
   "metadata": {
    "pycharm": {
     "name": "#%%\n"
    }
   },
   "outputs": [
    {
     "name": "stdout",
     "output_type": "stream",
     "text": [
      "0.41913215486098887\n",
      "0.41913215486098887\n"
     ]
    }
   ],
   "source": [
    "def msize(m):\n",
    "    return sum(p.numel() for p in m.parameters())\n",
    "#share of params in embedding\n",
    "print(msize(model.model.shared) / msize(model))   \n",
    "print(msize(model.lm_head) / msize(model))  "
   ]
  },
  {
   "cell_type": "markdown",
   "id": "d9a2ca13-1507-402d-bb77-289d594c6219",
   "metadata": {
    "pycharm": {
     "name": "#%% md\n"
    }
   },
   "source": [
    "## data"
   ]
  },
  {
   "cell_type": "code",
   "execution_count": 3,
   "id": "0488a3e2-a550-4014-9f58-25686dd78a8e",
   "metadata": {
    "pycharm": {
     "name": "#%%\n"
    }
   },
   "outputs": [
    {
     "name": "stdout",
     "output_type": "stream",
     "text": [
      "Train dataset size: 14732\n",
      "Test dataset size: 819\n"
     ]
    }
   ],
   "source": [
    "dataset_id = \"TalTechNLP/samsum_ee\"\n",
    "dataset = load_dataset(dataset_id)\n",
    "\n",
    "print(f\"Train dataset size: {len(dataset['train'])}\")\n",
    "print(f\"Test dataset size: {len(dataset['test'])}\")"
   ]
  },
  {
   "cell_type": "code",
   "execution_count": 4,
   "id": "0ed5008b-5135-4442-9de1-565471151878",
   "metadata": {
    "pycharm": {
     "name": "#%%\n"
    }
   },
   "outputs": [],
   "source": [
    "dataset['train']=dataset['train'].filter(lambda example, idx: example['summary'] is not None and example['dialogue'] is not None, with_indices=True)\n",
    "dataset['test'] = dataset['test'].filter(lambda example, idx: example['summary'] is not None and example['dialogue'] is not None, with_indices=True)"
   ]
  },
  {
   "cell_type": "code",
   "execution_count": 5,
   "id": "607554e0-274a-417b-a5d9-12f19d42e9af",
   "metadata": {
    "pycharm": {
     "name": "#%%\n"
    }
   },
   "outputs": [
    {
     "name": "stdout",
     "output_type": "stream",
     "text": [
      "Train dataset size: 13199\n",
      "Test dataset size: 809\n"
     ]
    }
   ],
   "source": [
    "print(f\"Train dataset size: {len(dataset['train'])}\")\n",
    "print(f\"Test dataset size: {len(dataset['test'])}\")"
   ]
  },
  {
   "cell_type": "code",
   "execution_count": 6,
   "id": "841231ad-5ce9-40ee-a268-acf4e5201989",
   "metadata": {
    "pycharm": {
     "name": "#%%\n"
    }
   },
   "outputs": [
    {
     "data": {
      "text/plain": [
       "Dataset({\n",
       "    features: ['id', 'dialogue', 'summary', 'en_dialogue', 'en_summary'],\n",
       "    num_rows: 13199\n",
       "})"
      ]
     },
     "execution_count": 6,
     "metadata": {},
     "output_type": "execute_result"
    }
   ],
   "source": [
    "train_dataset = dataset['train'].filter(lambda example, idx: example['summary'] is not None and example['dialogue'] is not None, with_indices=True)\n",
    "train_dataset"
   ]
  },
  {
   "cell_type": "code",
   "execution_count": 7,
   "id": "5124a695-a6c7-4825-bce6-681575fcd281",
   "metadata": {
    "pycharm": {
     "name": "#%%\n"
    }
   },
   "outputs": [
    {
     "data": {
      "text/plain": [
       "Dataset({\n",
       "    features: ['id', 'dialogue', 'summary', 'en_dialogue', 'en_summary'],\n",
       "    num_rows: 809\n",
       "})"
      ]
     },
     "execution_count": 7,
     "metadata": {},
     "output_type": "execute_result"
    }
   ],
   "source": [
    "test_dataset = dataset['test'].filter(lambda example, idx: example['summary'] is not None and example['dialogue'] is not None, with_indices=True)\n",
    "test_dataset"
   ]
  },
  {
   "cell_type": "markdown",
   "id": "1c10c473-40b5-4f9a-825d-ecb94eeef887",
   "metadata": {
    "pycharm": {
     "name": "#%% md\n"
    }
   },
   "source": [
    "## trim models vocab"
   ]
  },
  {
   "cell_type": "code",
   "execution_count": 17,
   "id": "33d3e93b-68bc-4acf-b5c9-aa9978e2e734",
   "metadata": {
    "pycharm": {
     "name": "#%%\n"
    }
   },
   "outputs": [
    {
     "data": {
      "text/plain": [
       "26398"
      ]
     },
     "execution_count": 17,
     "metadata": {},
     "output_type": "execute_result"
    }
   ],
   "source": [
    "texts4vocab=train_dataset['dialogue']+train_dataset['summary']\n",
    "len(texts4vocab)"
   ]
  },
  {
   "cell_type": "code",
   "execution_count": 18,
   "id": "5f78824c-4d9e-4121-bcfa-0f08e6d3beec",
   "metadata": {
    "pycharm": {
     "name": "#%%\n"
    }
   },
   "outputs": [],
   "source": [
    "config = MBartConfig.from_pretrained(model_id)"
   ]
  },
  {
   "cell_type": "code",
   "execution_count": null,
   "id": "13803b0c-fbe6-49c5-bd71-914a36224c0e",
   "metadata": {
    "pycharm": {
     "name": "#%%\n"
    }
   },
   "outputs": [
    {
     "name": "stderr",
     "output_type": "stream",
     "text": [
      "Token indices sequence length is longer than the specified maximum sequence length for this model (1981 > 1024). Running this sequence through the model will result in indexing errors\n",
      "100%|██████████| 250000/250000 [00:00<00:00, 1167225.66it/s]\n",
      "Special tokens have been added in the vocabulary, make sure the associated word embeddings are fine-tuned or trained.\n"
     ]
    }
   ],
   "source": [
    "# trim tokenizer\n",
    "tokenizer_slow_trim = TokenizerTrimmer(tokenizer_slow)\n",
    "tokenizer_slow_trim.make_vocab(texts4vocab)\n",
    "tokenizer_slow_trim.make_tokenizer()\n",
    "\n",
    "# trim model\n",
    "model_trim = MBartTrimmer(model, config, tokenizer_slow_trim.trimmed_tokenizer)\n",
    "model_trim.make_weights(tokenizer_slow_trim.trimmed_vocab_ids)\n",
    "model_trim.make_model()"
   ]
  },
  {
   "cell_type": "markdown",
   "id": "4715da82-494a-4ee3-b30f-14da9183aab0",
   "metadata": {
    "pycharm": {
     "name": "#%% md\n"
    }
   },
   "source": [
    "## Save trimmed model and tokenizer"
   ]
  },
  {
   "cell_type": "code",
   "execution_count": null,
   "id": "11147006-b556-4bd6-8317-a7d41556213c",
   "metadata": {
    "pycharm": {
     "name": "#%%\n"
    }
   },
   "outputs": [],
   "source": [
    "tokenizer_slow_trim.trimmed_tokenizer.save_pretrained('mbart-large-cc25_et')\n",
    "model_trim.trimmed_model.save_pretrained('mbart-large-cc25_et')"
   ]
  },
  {
   "cell_type": "markdown",
   "id": "0ca9eca1-6156-4581-a51e-0271b102f266",
   "metadata": {
    "pycharm": {
     "name": "#%% md\n"
    }
   },
   "source": [
    "## Load model and tokenizer"
   ]
  },
  {
   "cell_type": "code",
   "execution_count": 10,
   "id": "e858cc4a-d4cc-4506-90be-8e7b825c0383",
   "metadata": {
    "pycharm": {
     "name": "#%%\n"
    }
   },
   "outputs": [
    {
     "name": "stderr",
     "output_type": "stream",
     "text": [
      "Special tokens have been added in the vocabulary, make sure the associated word embeddings are fine-tuned or trained.\n",
      "Special tokens have been added in the vocabulary, make sure the associated word embeddings are fine-tuned or trained.\n"
     ]
    }
   ],
   "source": [
    "# tokenizer = MBartTokenizer.from_pretrained('mbart-large-cc25_et')\n",
    "tokenizer = MBartTokenizerFast.from_pretrained(\"mbart-large-cc25_et/\", from_slow=True)\n",
    "tokenizer.src_lang = src_lang\n",
    "tokenizer.tgt_lang = tgt_lang"
   ]
  },
  {
   "cell_type": "code",
   "execution_count": 11,
   "id": "9c67d1da-805a-4a30-a6da-cbee306fb1c6",
   "metadata": {
    "pycharm": {
     "name": "#%%\n"
    }
   },
   "outputs": [],
   "source": [
    "model = MBartForConditionalGeneration.from_pretrained('mbart-large-cc25_et', max_length=1024)"
   ]
  },
  {
   "cell_type": "markdown",
   "id": "720c1b3b-d201-49bf-9362-85cfc93c3366",
   "metadata": {
    "pycharm": {
     "name": "#%% md\n"
    }
   },
   "source": [
    "## prep data for training"
   ]
  },
  {
   "cell_type": "code",
   "execution_count": null,
   "id": "58462ab6-a200-4870-9404-116e6e9dd483",
   "metadata": {
    "pycharm": {
     "name": "#%%\n"
    }
   },
   "outputs": [],
   "source": [
    "max_source_length = 1024"
   ]
  },
  {
   "cell_type": "code",
   "execution_count": null,
   "id": "f000e83a-938f-4062-bbd9-81e49581f3bd",
   "metadata": {
    "pycharm": {
     "name": "#%%\n"
    }
   },
   "outputs": [],
   "source": [
    "max_target_length=512"
   ]
  },
  {
   "cell_type": "code",
   "execution_count": null,
   "id": "3737edea-df3e-4261-9141-ad2c8368fbd3",
   "metadata": {
    "pycharm": {
     "name": "#%%\n"
    }
   },
   "outputs": [],
   "source": [
    "def preprocess_function(sample,padding=\"max_length\"):\n",
    "    # add prefix to the input for t5\n",
    "    inputs = [\"summarize: \" + item for item in sample[\"dialogue\"]]\n",
    "\n",
    "    # tokenize inputs\n",
    "    model_inputs = tokenizer(inputs, max_length=max_source_length, padding=padding, truncation=True)\n",
    "\n",
    "    # Tokenize targets with the `text_target` keyword argument\n",
    "    labels = tokenizer(text=sample[\"summary\"], max_length=max_target_length, padding=padding, truncation=True)\n",
    "\n",
    "    # If we are padding here, replace all tokenizer.pad_token_id in the labels by -100 when we want to ignore\n",
    "    # padding in the loss.\n",
    "    if padding == \"max_length\":\n",
    "        labels[\"input_ids\"] = [\n",
    "            [(l if l != tokenizer.pad_token_id else -100) for l in label] for label in labels[\"input_ids\"]\n",
    "        ]\n",
    "\n",
    "    model_inputs[\"labels\"] = labels[\"input_ids\"]\n",
    "    return model_inputs"
   ]
  },
  {
   "cell_type": "code",
   "execution_count": null,
   "id": "9d4b93f9-c7fd-4683-b21d-15283e217b7d",
   "metadata": {
    "pycharm": {
     "name": "#%%\n"
    }
   },
   "outputs": [],
   "source": [
    "tokenized_train_dataset = train_dataset.map(preprocess_function, batched=True, remove_columns=[\"dialogue\", \"summary\", \"id\"])"
   ]
  },
  {
   "cell_type": "code",
   "execution_count": null,
   "id": "9f766165-4f45-40a8-9898-c4a458584f01",
   "metadata": {
    "pycharm": {
     "name": "#%%\n"
    }
   },
   "outputs": [],
   "source": [
    "tokenized_test_dataset = test_dataset.map(preprocess_function, batched=True, remove_columns=[\"dialogue\", \"summary\", \"id\"])"
   ]
  },
  {
   "cell_type": "markdown",
   "id": "11fc810e-4647-46f0-8813-a0ac8f5f5a9e",
   "metadata": {
    "pycharm": {
     "name": "#%% md\n"
    }
   },
   "source": [
    "## evaluator"
   ]
  },
  {
   "cell_type": "code",
   "execution_count": 12,
   "id": "de471419-c631-41db-9055-485596a606d3",
   "metadata": {
    "pycharm": {
     "name": "#%%\n"
    }
   },
   "outputs": [],
   "source": [
    "# Metric\n",
    "metric = evaluate.load(\"rouge\")\n",
    "\n",
    "# helper function to postprocess text\n",
    "def postprocess_text(preds, labels):\n",
    "    preds = [pred.strip() for pred in preds]\n",
    "    labels = [label.strip() for label in labels]\n",
    "\n",
    "    # rougeLSum expects newline after each sentence\n",
    "    preds = [\"\\n\".join(sent_tokenize(pred)) for pred in preds]\n",
    "    labels = [\"\\n\".join(sent_tokenize(label)) for label in labels]\n",
    "\n",
    "    return preds, labels\n",
    "\n",
    "def compute_metrics(eval_preds):\n",
    "    preds, labels = eval_preds\n",
    "    if isinstance(preds, tuple):\n",
    "        preds = preds[0]\n",
    "    decoded_preds = tokenizer.batch_decode(preds, skip_special_tokens=True)\n",
    "    # Replace -100 in the labels as we can't decode them.\n",
    "    labels = np.where(labels != -100, labels, tokenizer.pad_token_id)\n",
    "    decoded_labels = tokenizer.batch_decode(labels, skip_special_tokens=True)\n",
    "\n",
    "    # Some simple post-processing\n",
    "    decoded_preds, decoded_labels = postprocess_text(decoded_preds, decoded_labels)\n",
    "\n",
    "    result = metric.compute(predictions=decoded_preds, references=decoded_labels, use_stemmer=True)\n",
    "    result = {k: round(v * 100, 4) for k, v in result.items()}\n",
    "    prediction_lens = [np.count_nonzero(pred != tokenizer.pad_token_id) for pred in preds]\n",
    "    result[\"gen_len\"] = np.mean(prediction_lens)\n",
    "    return result"
   ]
  },
  {
   "cell_type": "code",
   "execution_count": null,
   "id": "9bcf0960-da63-4f4f-a88b-6bd8cdce783d",
   "metadata": {
    "pycharm": {
     "name": "#%%\n"
    }
   },
   "outputs": [],
   "source": [
    "# we want to ignore tokenizer pad token in the loss\n",
    "label_pad_token_id = -100\n",
    "# Data collator\n",
    "data_collator = DataCollatorForSeq2Seq(\n",
    "    tokenizer,\n",
    "    model=model,\n",
    "    label_pad_token_id=label_pad_token_id,\n",
    "    pad_to_multiple_of=8\n",
    ")"
   ]
  },
  {
   "cell_type": "markdown",
   "id": "395c1268-ae7d-4537-9de0-f6b448a5af76",
   "metadata": {
    "pycharm": {
     "name": "#%% md\n"
    }
   },
   "source": [
    "## training "
   ]
  },
  {
   "cell_type": "code",
   "execution_count": null,
   "id": "9394d21f-92d3-42fa-8597-a2ff3c8aad64",
   "metadata": {
    "pycharm": {
     "name": "#%%\n"
    }
   },
   "outputs": [],
   "source": [
    "early_stop = EarlyStoppingCallback(3, 0.0)"
   ]
  },
  {
   "cell_type": "code",
   "execution_count": null,
   "id": "8c4ae189-8f5e-4add-8b34-4cf0c40c2ce6",
   "metadata": {
    "pycharm": {
     "name": "#%%\n"
    }
   },
   "outputs": [],
   "source": [
    "# Hugging Face repository id\n",
    "repository_id = f\"{model_id.split('/')[1]}-{dataset_id}\"\n",
    "\n",
    "# Define training args\n",
    "training_args = Seq2SeqTrainingArguments(\n",
    "    output_dir=repository_id,\n",
    "    per_device_train_batch_size=4,\n",
    "    per_device_eval_batch_size=4,\n",
    "    predict_with_generate=True,\n",
    "    fp16=True,\n",
    "    learning_rate=5e-5,\n",
    "    num_train_epochs=10,\n",
    "    # logging & evaluation strategies\n",
    "    logging_dir=f\"{repository_id}/logs\",\n",
    "    logging_strategy=\"steps\",\n",
    "    logging_steps=500,\n",
    "    evaluation_strategy=\"epoch\",\n",
    "    save_strategy=\"epoch\",\n",
    "    save_total_limit=2,\n",
    "    load_best_model_at_end=True,\n",
    "    metric_for_best_model=\"eval_loss\",\n",
    "    # push to hub parameters\n",
    "    report_to=\"tensorboard\",\n",
    "    push_to_hub=False,\n",
    "    hub_strategy=\"every_save\",\n",
    "    hub_model_id=repository_id,\n",
    ")\n",
    "\n",
    "\n",
    "trainer = Seq2SeqTrainer(\n",
    "    model=model,\n",
    "    args=training_args,\n",
    "    data_collator=data_collator,\n",
    "    train_dataset=tokenized_train_dataset,\n",
    "    eval_dataset=tokenized_test_dataset,\n",
    "    compute_metrics=compute_metrics,\n",
    "    callbacks=[early_stop]\n",
    ")"
   ]
  },
  {
   "cell_type": "code",
   "execution_count": null,
   "id": "027c86c4-b33e-429c-8a8a-e9d975162bcd",
   "metadata": {
    "pycharm": {
     "name": "#%%\n"
    }
   },
   "outputs": [],
   "source": [
    "trainer.train()"
   ]
  },
  {
   "cell_type": "markdown",
   "id": "c085be7b-5f65-4b18-8489-760d822096de",
   "metadata": {
    "pycharm": {
     "name": "#%% md\n"
    }
   },
   "source": [
    "## calculate metrics"
   ]
  },
  {
   "cell_type": "code",
   "execution_count": 13,
   "id": "f1dfb433-b776-4c97-b4cf-47c92b1243c3",
   "metadata": {
    "pycharm": {
     "name": "#%%\n"
    }
   },
   "outputs": [
    {
     "name": "stderr",
     "output_type": "stream",
     "text": [
      "Special tokens have been added in the vocabulary, make sure the associated word embeddings are fine-tuned or trained.\n",
      "Special tokens have been added in the vocabulary, make sure the associated word embeddings are fine-tuned or trained.\n"
     ]
    }
   ],
   "source": [
    "model_id=\"mbart-large-cc25-TalTechNLP/samsum_ee/checkpoint-6600/\"\n",
    "tokenizer = MBartTokenizerFast.from_pretrained(\"mbart-large-cc25_et/\",from_slow=True)\n",
    "model = MBartForConditionalGeneration.from_pretrained(model_id)"
   ]
  },
  {
   "cell_type": "code",
   "execution_count": 14,
   "id": "8116a954-a542-4638-a974-fa6bf94089ea",
   "metadata": {
    "pycharm": {
     "name": "#%%\n"
    }
   },
   "outputs": [],
   "source": [
    "model=model.to('cuda')"
   ]
  },
  {
   "cell_type": "code",
   "execution_count": 15,
   "id": "e21a8b7c-0ff9-4bd0-a48d-589d5bd3ea05",
   "metadata": {
    "pycharm": {
     "name": "#%%\n"
    }
   },
   "outputs": [],
   "source": [
    "def calc_texts_labels_metrics(texts, summaries, model, tokenizer, max_input_length=1024, max_output_length=512, batch_size = 10):\n",
    "    true_labels=tokenizer(\n",
    "        summaries, return_tensors=\"pt\",padding=\"max_length\", truncation=True, max_length=max_input_length\n",
    "    ).input_ids.cpu()\n",
    "    input_ids = tokenizer(\n",
    "        texts, return_tensors=\"pt\", padding=\"max_length\", truncation=True, max_length=max_input_length\n",
    "    ).input_ids  \n",
    "    \n",
    "    predictions = []\n",
    "    for i in range(0, input_ids.size(0), batch_size):\n",
    "        batch_input_ids = input_ids[i:i + batch_size].to('cuda')\n",
    "        batch_outputs = model.generate(input_ids=batch_input_ids, max_length=max_output_length)\n",
    "        predictions.extend(batch_outputs.cpu().detach().numpy())\n",
    "    max_length = max(len(p) for p in predictions)\n",
    "    padded_predictions = [np.pad(p, (0, max_length - len(p)), mode='constant') for p in predictions]\n",
    "    outputs = torch.tensor(padded_predictions)\n",
    "    eval_preds = (outputs, true_labels.cpu())\n",
    "    metrics = compute_metrics(eval_preds)\n",
    "    return metrics"
   ]
  },
  {
   "cell_type": "code",
   "execution_count": 16,
   "id": "a90f7462-4081-43b2-8e03-c0019cd0e2cd",
   "metadata": {
    "pycharm": {
     "name": "#%%\n"
    }
   },
   "outputs": [
    {
     "name": "stderr",
     "output_type": "stream",
     "text": [
      "/tmp/ipykernel_1908/2617402847.py:16: UserWarning: Creating a tensor from a list of numpy.ndarrays is extremely slow. Please consider converting the list to a single numpy.ndarray with numpy.array() before converting to a tensor. (Triggered internally at  ../torch/csrc/utils/tensor_new.cpp:201.)\n",
      "  outputs = torch.tensor(padded_predictions)\n"
     ]
    },
    {
     "data": {
      "text/plain": [
       "{'rouge1': 37.9071,\n",
       " 'rouge2': 16.2802,\n",
       " 'rougeL': 31.5887,\n",
       " 'rougeLsum': 35.1778,\n",
       " 'gen_len': 241.59950556242273}"
      ]
     },
     "execution_count": 16,
     "metadata": {},
     "output_type": "execute_result"
    }
   ],
   "source": [
    "eval_metrics=calc_texts_labels_metrics(test_dataset['dialogue'], test_dataset['summary'], model, tokenizer)\n",
    "eval_metrics"
   ]
  },
  {
   "cell_type": "markdown",
   "id": "0d7c751f-8c86-4371-b961-994df10e6767",
   "metadata": {
    "pycharm": {
     "name": "#%% md\n"
    }
   },
   "source": [
    "## example usage"
   ]
  },
  {
   "cell_type": "code",
   "execution_count": 17,
   "id": "b483a9a2-8ac7-421f-ad7c-52b2f0dbd511",
   "metadata": {
    "pycharm": {
     "name": "#%%\n"
    }
   },
   "outputs": [],
   "source": [
    "def summarize(text, model, tokenizer, max_input_length=1024, max_new_tokens=512):\n",
    "    input_ids = tokenizer(\n",
    "         text, return_tensors=\"pt\",\n",
    "        max_length=max_input_length\n",
    "    ).input_ids  # Batch size 1\n",
    "    outputs = model.generate(input_ids=input_ids.to('cuda'), max_new_tokens=max_new_tokens)\n",
    "    print(tokenizer.decode(outputs[0], skip_special_tokens=True))"
   ]
  },
  {
   "cell_type": "code",
   "execution_count": 18,
   "id": "9609a55c-1df7-4741-ac5a-cea6c0587376",
   "metadata": {
    "pycharm": {
     "name": "#%%\n"
    }
   },
   "outputs": [
    {
     "name": "stderr",
     "output_type": "stream",
     "text": [
      "Truncation was not explicitly activated but `max_length` is provided a specific value, please use `truncation=True` to explicitly truncate examples to max length. Defaulting to 'longest_first' truncation strategy. If you encode pairs of sequences (GLUE-style) with the tokenizer you can select this strategy more precisely by providing a specific strategy to `truncation`.\n"
     ]
    },
    {
     "name": "stdout",
     "output_type": "stream",
     "text": [
      "Amanda ei leia Betty telefoninumbrit. Betty helistas Larryle viimati, kui nad koos pargis olid.\n"
     ]
    }
   ],
   "source": [
    "summarize(dataset['test'][0]['dialogue'], model, tokenizer)"
   ]
  },
  {
   "cell_type": "code",
   "execution_count": 19,
   "id": "8ceedc6e-44f6-48c7-abf4-e35fe6d7bedb",
   "metadata": {
    "pycharm": {
     "name": "#%%\n"
    }
   },
   "outputs": [
    {
     "data": {
      "text/plain": [
       "'Hannah: Hei, kas sul on Betty number?\\nAmanda: Vaatan järele.\\nHannah: <file_gif>\\nAmanda: Vabandust, ei leia seda.\\nAmanda: Küsi Larrylt.\\nAmanda: Ta helistas talle viimati, kui me koos pargis olime.\\nHannah: Ma ei tunne teda hästi.\\nHannah: <file_gif>\\nAmanda: Ära ole häbelik, ta on väga tore.\\nHannah: Kui sa ütled nii..\\nHannah: Ma eelistaksin, et sa talle sõnumi saadaksid.\\nAmanda: Lihtsalt saada talle sõnum 🙂\\nHannah: Urgh.. Olgu siis\\nHannah: Nägemist\\nAmanda: Nägemist-nägemist'"
      ]
     },
     "execution_count": 19,
     "metadata": {},
     "output_type": "execute_result"
    }
   ],
   "source": [
    "dataset['test'][0]['dialogue']"
   ]
  },
  {
   "cell_type": "code",
   "execution_count": 20,
   "id": "2ccbcf68-c64c-4069-ad62-f6696eb58d0f",
   "metadata": {
    "pycharm": {
     "name": "#%%\n"
    }
   },
   "outputs": [
    {
     "data": {
      "text/plain": [
       "'Hannah vajab Betty telefoninumbrit, kuid Amandal seda pole. Ta peab Larryga ühendust võtma.'"
      ]
     },
     "execution_count": 20,
     "metadata": {},
     "output_type": "execute_result"
    }
   ],
   "source": [
    "dataset['test'][0]['summary']"
   ]
  },
  {
   "cell_type": "code",
   "execution_count": 21,
   "id": "2a8543aa-ca04-4d50-8cd7-0fb3bee9d0ce",
   "metadata": {
    "pycharm": {
     "name": "#%%\n"
    }
   },
   "outputs": [
    {
     "name": "stdout",
     "output_type": "stream",
     "text": [
      "Eric ja Rob vaatavad Masini etendust, mis näitab, kuidas ameeriklased näevad venelasi.\n"
     ]
    }
   ],
   "source": [
    "summarize(dataset['test'][1]['dialogue'], model, tokenizer)"
   ]
  },
  {
   "cell_type": "code",
   "execution_count": 22,
   "id": "2f713ca3-4394-4998-945d-eb55f205e7ee",
   "metadata": {
    "pycharm": {
     "name": "#%%\n"
    }
   },
   "outputs": [
    {
     "data": {
      "text/plain": [
       "\"Eric: MASIN!\\nRob: See on nii lahe!\\nEric: Ma tean! Ja näitab, kuidas ameeriklased näevad venelasi ;)\\nRob: Ja see on tõesti naljakas!\\nEric: Ma tean! Mulle meeldib eriti rongi osa!\\nRob: Hahaha! Keegi ei räägi masinaga nii!\\nEric: Kas see on tema ainus etendus?\\nRob: Ei tea. Ma vaatan järele.\\nEric: Kindlasti.\\nRob: Selgub, et ei! Mõned tema etendused on Youtube'is.\\nEric: Lahe! Ma vaatan neid kohe!\\nRob: Mina ka!\\nEric: MASIN!\\nRob: MASIN!\\nEric: Kuni kohtumiseni?\\nRob: Muidugi :)\""
      ]
     },
     "execution_count": 22,
     "metadata": {},
     "output_type": "execute_result"
    }
   ],
   "source": [
    "dataset['test'][1]['dialogue']"
   ]
  },
  {
   "cell_type": "code",
   "execution_count": 23,
   "id": "e49ce014-7642-410e-890b-dceefd5edb1c",
   "metadata": {
    "pycharm": {
     "name": "#%%\n"
    }
   },
   "outputs": [
    {
     "data": {
      "text/plain": [
       "\"Eric ja Rob lähevad vaatama stand-up'i YouTube'is.\""
      ]
     },
     "execution_count": 23,
     "metadata": {},
     "output_type": "execute_result"
    }
   ],
   "source": [
    "dataset['test'][1]['summary']"
   ]
  },
  {
   "cell_type": "code",
   "execution_count": 24,
   "id": "0114421f-0819-458b-8eae-5ab63488b46a",
   "metadata": {
    "pycharm": {
     "name": "#%%\n"
    }
   },
   "outputs": [
    {
     "name": "stdout",
     "output_type": "stream",
     "text": [
      "Bob soovib, et Lenny ostaks talle musta paari. Lenny ostab esimese paari või kolmanda paari.\n"
     ]
    }
   ],
   "source": [
    "summarize(dataset['test'][2]['dialogue'], model, tokenizer)"
   ]
  },
  {
   "cell_type": "code",
   "execution_count": 25,
   "id": "db487304-e508-4cd1-bcef-b64d7c7f4f79",
   "metadata": {
    "pycharm": {
     "name": "#%%\n"
    }
   },
   "outputs": [
    {
     "data": {
      "text/plain": [
       "'Lenny: Kallis, kas sa saaksid mulle millegagi abi anda?\\nBob: Muidugi, mis toimub?\\nLenny: Millise ma peaksin valima?\\nBob: Saada mulle pilte.\\nLenny: <file_photo>\\nLenny: <file_photo>\\nLenny: <file_photo>\\nBob: Mulle meeldivad kõige rohkem esimesed.\\nLenny: Aga mul on juba lillad püksid. Kas on mõtet omada kahte paari?\\nBob: Mul on neli musta paari :D :D\\nLenny: Jah, aga kas ma ei peaks valima erinevat värvi?\\nBob: Oluline on see, milline annab sulle kõige rohkem riietumisvõimalusi.\\nLenny: Nii et ma arvan, et ostan esimese või kolmanda paari siis.\\nBob: Vali parim kvaliteet siis.\\nLenny: Sul on õigus, aitäh.\\nBob: Pole probleemi :)'"
      ]
     },
     "execution_count": 25,
     "metadata": {},
     "output_type": "execute_result"
    }
   ],
   "source": [
    "dataset['test'][2]['dialogue']"
   ]
  },
  {
   "cell_type": "code",
   "execution_count": 26,
   "id": "c7c68a54-4fdb-4e78-8c7f-b6a55d4fd137",
   "metadata": {
    "pycharm": {
     "name": "#%%\n"
    }
   },
   "outputs": [
    {
     "data": {
      "text/plain": [
       "'Lenny ei suuda otsustada, millised püksid osta. Bob nõustas Lennyt selles küsimuses. Lenny läheb Bobi nõu järgi ja valib kvaliteetseimad püksid.'"
      ]
     },
     "execution_count": 26,
     "metadata": {},
     "output_type": "execute_result"
    }
   ],
   "source": [
    "dataset['test'][2]['summary']"
   ]
  },
  {
   "cell_type": "code",
   "execution_count": 27,
   "id": "98672227-2fa5-4c37-bbae-9c71f800d2af",
   "metadata": {
    "pycharm": {
     "name": "#%%\n"
    }
   },
   "outputs": [
    {
     "name": "stdout",
     "output_type": "stream",
     "text": [
      "Emma valmistab täna õhtuks toitu. Ta jõuab koju varsti.\n"
     ]
    }
   ],
   "source": [
    "summarize(dataset['test'][3]['dialogue'], model, tokenizer)"
   ]
  },
  {
   "cell_type": "code",
   "execution_count": 28,
   "id": "f2f7f03c-7e18-453a-b961-b7a6bec8eeee",
   "metadata": {
    "pycharm": {
     "name": "#%%\n"
    }
   },
   "outputs": [
    {
     "data": {
      "text/plain": [
       "'Will: hei kallis, mida sa täna õhtuks süüa tahad?\\nEmma: oh, ära täna üldse muretse selle pärast\\nWill: mida sa selle all mõtled? kas kõik on korras?\\nEmma: mitte päris, aga see on ok, ära muretse toiduvalmistamise pärast, mul pole isu\\nWill: millal sa koju jõuad?\\nEmma: varsti, loodetavasti\\nWill: kas sa oled kindel? võib-olla tahad, et ma sind järele tuleksin?\\nEmma: ei ei, see on korras. Ma jõuan varsti koju, ma ütlen sulle, kui ma koju jõuan.\\nWill: Selge, armastan sind.\\nEmma: armastan sind ka.'"
      ]
     },
     "execution_count": 28,
     "metadata": {},
     "output_type": "execute_result"
    }
   ],
   "source": [
    "dataset['test'][3]['dialogue']"
   ]
  },
  {
   "cell_type": "code",
   "execution_count": 29,
   "id": "01dd70cf-1a52-4876-8801-2eeb20e9c32e",
   "metadata": {
    "pycharm": {
     "name": "#%%\n"
    }
   },
   "outputs": [
    {
     "data": {
      "text/plain": [
       "'Emma tuleb varsti koju ja ta annab Willile teada.'"
      ]
     },
     "execution_count": 29,
     "metadata": {},
     "output_type": "execute_result"
    }
   ],
   "source": [
    "dataset['test'][3]['summary']"
   ]
  },
  {
   "cell_type": "code",
   "execution_count": 30,
   "id": "bc74eff1-b134-4baf-a1f8-9a01f1ceec7a",
   "metadata": {
    "pycharm": {
     "name": "#%%\n"
    }
   },
   "outputs": [
    {
     "name": "stdout",
     "output_type": "stream",
     "text": [
      "Jane on just tagasi Varssavis. Ollie ei ole vaba õhtusöögiks 19. kuupäeval, kuid 18. kuupäeval on tal pidu. Ollie ja Jane kohtuvad reedel kell 18.00 pärast Ollie kursusi.\n"
     ]
    }
   ],
   "source": [
    "summarize(dataset['test'][4]['dialogue'], model, tokenizer)"
   ]
  },
  {
   "cell_type": "code",
   "execution_count": 31,
   "id": "c8f04b0c-809a-4bc4-9ade-1ebaabd5422d",
   "metadata": {
    "pycharm": {
     "name": "#%%\n"
    }
   },
   "outputs": [
    {
     "data": {
      "text/plain": [
       "'Ollie: Tere, kas sa oled Varssavis?\\nJane: Jah, just tagasi! Muide, kas sa oled vaba õhtusöögiks 19. kuupäeval?\\nOllie: Ei ole!\\nJane: Aga 18.?\\nOllie: Ei, meil on see pidu ja sa pead seal olema, mäletad?\\nJane: Oh õige! Ma kaotasin oma kalendri.. aitäh, et meelde tuletasid.\\nOllie: Kas me lõunatame sel nädalal?\\nJane: Hea meelega!\\nOllie: Reede?\\nJane: Ok.\\nJane: Mida sa mõtled \"meil pole enam viskit!\" lol..\\nOllie: Mida!!!?\\nJane: Sa helistasid mulle ja ainus asi, mida ma kuulsin, oli see lause viski kohta... mis sinuga lahti on?\\nOllie: Oh oh... väga imelik! Pean olema ettevaatlik, võib-olla on minu telefonis mõni spioon! lol\\nJane: Ära muretse, me kontrollime reedel.\\nOllie: Ära unusta päikest kaasa võtta.\\nJane: Ma ei jõua ära oodata, et Marokosse jõuda..\\nOllie: Naudi ja näeme reedel.\\nJane: Vabandust, Ollie, mul on väga kiire, mul ei ole homme lõunaks aega, aga ehk kell 18 pärast minu kursusi? See Maroko reis oli nii tore, aga aeganõudev!\\nOllie: Ok, teeks siis teed!\\nJane: Olen teel..\\nOllie: Tee on valmis, kas tõid küpsetised kaasa?\\nJane: Ma sõin need juba ära... näeme minutiga.\\nOllie: Ok.'"
      ]
     },
     "execution_count": 31,
     "metadata": {},
     "output_type": "execute_result"
    }
   ],
   "source": [
    "dataset['test'][4]['dialogue']"
   ]
  },
  {
   "cell_type": "code",
   "execution_count": 32,
   "id": "472332a5-cbb5-446e-973d-a1115a1d4d99",
   "metadata": {
    "pycharm": {
     "name": "#%%\n"
    }
   },
   "outputs": [
    {
     "data": {
      "text/plain": [
       "\"Jane on Varssavis. Ollie ja Jane korraldavad peo. Jane kaotas oma kalendri. Nad saavad sel nädalal reedel lõunat. Ollie helistas kogemata Jane'ile ja rääkis viskist. Jane tühistab lõunasöögi. Nad kohtuvad kell 18 teeks.\""
      ]
     },
     "execution_count": 32,
     "metadata": {},
     "output_type": "execute_result"
    }
   ],
   "source": [
    "dataset['test'][4]['summary']"
   ]
  },
  {
   "cell_type": "code",
   "execution_count": 33,
   "id": "cabe82cf-ff7c-4429-86eb-e50f5ad146d1",
   "metadata": {
    "pycharm": {
     "name": "#%%\n"
    }
   },
   "outputs": [
    {
     "name": "stdout",
     "output_type": "stream",
     "text": [
      "ja SDP on Soome kõige populaarsem partei Koonderakond. Märtsis langes peaministripartei toetus ühe protsendi võrra ning Koonderakonna toetus on nüüd 20,6 protsenti. SDP suurendas toetust naiste ja noorte hulgas. Märtsis tõusis SDP toetus 1, erakonna toetus 1, erakonna toetus 21,7 protsenti ja Koonderakonna toetus 17,4 protsenti. Riikka Purra kodupartei toetus 17,4 protsenti.\n"
     ]
    }
   ],
   "source": [
    "input_text=\"\"\"Veel veebruaris oli Soome kõige populaarsem partei Koonderakond, kuid kaotas märtsis selle tiitli SDP-le. Märtsis langes peaministripartei  toetus ühe protsendi võrra ning Koonderakonna toetus on nüüd 20,6 protsenti.\n",
    "SDP suurendas toetust naiste ja noorte hulgas. Märtsis tõusis SDP toetus 1,9 protsenti ning erakonna toetus on nüüd 21,7 protsenti. \n",
    "Koonderakonna kannul on Põlissoomlased, rahandusminister Riikka Purra kodupartei toetus on 17,4 protsenti.\"\"\"\n",
    "summarize(input_text, model, tokenizer)"
   ]
  },
  {
   "cell_type": "markdown",
   "id": "5f095180-8ad0-43a1-a398-fe6aaa7c9dc5",
   "metadata": {
    "pycharm": {
     "name": "#%% md\n"
    }
   },
   "source": [
    "## speed Taltech vs fine-tuned tokenizer"
   ]
  },
  {
   "cell_type": "code",
   "execution_count": 47,
   "id": "1bf59963-f881-4085-8668-673d28d8fb07",
   "metadata": {
    "pycharm": {
     "name": "#%%\n"
    }
   },
   "outputs": [],
   "source": [
    "def summarize(input_text, model, tokenizer, device='cuda'):\n",
    "    input_ids = tokenizer(\n",
    "        input_text, return_tensors=\"pt\"\n",
    "    ).input_ids  # Batch size 1\n",
    "    outputs = model.generate(input_ids=input_ids.to(device))\n",
    "    return tokenizer.decode(outputs[0], skip_special_tokens=True)"
   ]
  },
  {
   "cell_type": "code",
   "execution_count": 34,
   "id": "c7d30904-36e3-43b3-b469-3982aa1036de",
   "metadata": {
    "pycharm": {
     "name": "#%%\n"
    }
   },
   "outputs": [],
   "source": [
    "model_id_taltect=\"TalTechNLP/mBART-ERRnews\"\n",
    "src_lang = \"et_EE\" # Example source language code\n",
    "tgt_lang = \"et_EE\" # Example target language code"
   ]
  },
  {
   "cell_type": "code",
   "execution_count": 35,
   "id": "df4e26d0-9f8d-46bf-8754-3f4c2aadeb75",
   "metadata": {
    "pycharm": {
     "name": "#%%\n"
    }
   },
   "outputs": [],
   "source": [
    "tokenizer_taltech = AutoTokenizer.from_pretrained(model_id_taltect)\n",
    "model_taltech = AutoModelForSeq2SeqLM.from_pretrained(model_id_taltect)\n",
    "model_taltech=model_taltech.to('cuda')"
   ]
  },
  {
   "cell_type": "code",
   "execution_count": 36,
   "id": "4ab52ede-d867-4bcc-a21b-dd1f0d2ecc3e",
   "metadata": {
    "pycharm": {
     "name": "#%%\n"
    }
   },
   "outputs": [
    {
     "data": {
      "text/plain": [
       "621"
      ]
     },
     "execution_count": 36,
     "metadata": {},
     "output_type": "execute_result"
    }
   ],
   "source": [
    "input_text=\"\"\"Veel veebruaris oli Soome kõige populaarsem partei Koonderakond, kuid kaotas märtsis selle tiitli SDP-le. Märtsis langes peaministripartei  toetus ühe protsendi võrra ning Koonderakonna toetus on nüüd 20,6 protsenti.\n",
    "SDP suurendas toetust naiste ja noorte hulgas. Märtsis tõusis SDP toetus 1,9 protsenti ning erakonna toetus on nüüd 21,7 protsenti. \n",
    "Koonderakonna kannul on Põlissoomlased, rahandusminister Riikka Purra kodupartei toetus on 17,4 protsenti.\"\"\"\n",
    "\n",
    "#number of tokens\n",
    "input_ids = tokenizer(\n",
    "     input_text*5, return_tensors=\"pt\"\n",
    ").input_ids\n",
    "len(input_ids[0])"
   ]
  },
  {
   "cell_type": "code",
   "execution_count": 37,
   "id": "11b766be-307f-4054-9d5b-b24c96ea8670",
   "metadata": {
    "pycharm": {
     "name": "#%%\n"
    }
   },
   "outputs": [
    {
     "name": "stderr",
     "output_type": "stream",
     "text": [
      "Truncation was not explicitly activated but `max_length` is provided a specific value, please use `truncation=True` to explicitly truncate examples to max length. Defaulting to 'longest_first' truncation strategy. If you encode pairs of sequences (GLUE-style) with the tokenizer you can select this strategy more precisely by providing a specific strategy to `truncation`.\n"
     ]
    },
    {
     "name": "stdout",
     "output_type": "stream",
     "text": [
      "Soome kõige populaarsem erakond oli veebruaris Koonderakond, kuid kaotas märtsis sellele tiitli.\n",
      "CPU times: user 283 ms, sys: 294 µs, total: 284 ms\n",
      "Wall time: 283 ms\n"
     ]
    }
   ],
   "source": [
    "%time _= summarize(input_text, model_taltech, tokenizer_taltech)"
   ]
  },
  {
   "cell_type": "code",
   "execution_count": 38,
   "id": "86218825-6acd-436c-836b-7514a20f658b",
   "metadata": {
    "pycharm": {
     "name": "#%%\n"
    }
   },
   "outputs": [],
   "source": [
    "_"
   ]
  },
  {
   "cell_type": "code",
   "execution_count": 39,
   "id": "f99ac53f-9136-4176-9456-7124244df0b1",
   "metadata": {
    "pycharm": {
     "name": "#%%\n"
    }
   },
   "outputs": [
    {
     "name": "stdout",
     "output_type": "stream",
     "text": [
      "ja SDP on Soome kõige populaarsem partei Koonderakond. Märtsis langes peaministripartei toetus ühe protsendi võrra ning Koonderakonna toetus on nüüd 20,6 protsenti. SDP suurendas toetust naiste ja noorte hulgas. Märtsis tõusis SDP toetus 1, erakonna toetus 1, erakonna toetus 21,7 protsenti ja Koonderakonna toetus 17,4 protsenti. Riikka Purra kodupartei toetus 17,4 protsenti.\n",
      "CPU times: user 798 ms, sys: 168 µs, total: 798 ms\n",
      "Wall time: 797 ms\n"
     ]
    }
   ],
   "source": [
    "%time _=summarize(input_text, model, tokenizer)"
   ]
  },
  {
   "cell_type": "code",
   "execution_count": 40,
   "id": "d1453baf-fbcc-4c3b-8f3a-caf514892ea6",
   "metadata": {
    "pycharm": {
     "name": "#%%\n"
    }
   },
   "outputs": [],
   "source": [
    "_"
   ]
  },
  {
   "cell_type": "markdown",
   "id": "a4fd32f2-645b-4d7c-9390-63f254f45d88",
   "metadata": {
    "pycharm": {
     "name": "#%% md\n"
    }
   },
   "source": [
    "## speed on CPU"
   ]
  },
  {
   "cell_type": "code",
   "execution_count": 43,
   "id": "a286d6a1-df66-49b6-aff5-3d5fb9dd1dda",
   "metadata": {
    "pycharm": {
     "name": "#%%\n"
    }
   },
   "outputs": [
    {
     "data": {
      "text/plain": [
       "373833728"
      ]
     },
     "execution_count": 43,
     "metadata": {},
     "output_type": "execute_result"
    }
   ],
   "source": [
    "msize(model)"
   ]
  },
  {
   "cell_type": "code",
   "execution_count": 44,
   "id": "a74327e3-ec53-4631-93d6-90405946d40e",
   "metadata": {
    "pycharm": {
     "name": "#%%\n"
    }
   },
   "outputs": [
    {
     "data": {
      "text/plain": [
       "610851840"
      ]
     },
     "execution_count": 44,
     "metadata": {},
     "output_type": "execute_result"
    }
   ],
   "source": [
    "msize(model_taltech)"
   ]
  },
  {
   "cell_type": "code",
   "execution_count": 45,
   "id": "912ee0d2-b77d-4a51-95bf-9bffa968cb52",
   "metadata": {
    "pycharm": {
     "name": "#%%\n"
    }
   },
   "outputs": [],
   "source": [
    "torch.set_num_threads(1)"
   ]
  },
  {
   "cell_type": "code",
   "execution_count": 48,
   "id": "bead69f8-a943-4c80-bcff-db732b456bb8",
   "metadata": {
    "pycharm": {
     "name": "#%%\n"
    }
   },
   "outputs": [
    {
     "name": "stdout",
     "output_type": "stream",
     "text": [
      "CPU times: user 11.5 s, sys: 18.4 ms, total: 11.5 s\n",
      "Wall time: 11.5 s\n"
     ]
    }
   ],
   "source": [
    "model_taltech=model_taltech.to('cpu')\n",
    "%time _= summarize(input_text, model_taltech, tokenizer_taltech, device='cpu')"
   ]
  },
  {
   "cell_type": "code",
   "execution_count": 49,
   "id": "537475da-b586-43f7-8d99-ae2d4108b7e8",
   "metadata": {
    "pycharm": {
     "name": "#%%\n"
    }
   },
   "outputs": [
    {
     "name": "stdout",
     "output_type": "stream",
     "text": [
      "CPU times: user 13.6 s, sys: 0 ns, total: 13.6 s\n",
      "Wall time: 13.6 s\n"
     ]
    }
   ],
   "source": [
    "model=model.to('cpu')\n",
    "%time _= summarize(input_text, model, tokenizer, device='cpu')"
   ]
  },
  {
   "cell_type": "markdown",
   "id": "a165f8fd-a114-4b5a-8b69-da0f4b8417ec",
   "metadata": {
    "pycharm": {
     "name": "#%% md\n"
    }
   },
   "source": [
    "## visualize training stats"
   ]
  },
  {
   "cell_type": "code",
   "execution_count": 1,
   "id": "458c75be-1602-45f2-a8ec-c60f19a76579",
   "metadata": {
    "pycharm": {
     "name": "#%%\n"
    }
   },
   "outputs": [
    {
     "name": "stderr",
     "output_type": "stream",
     "text": [
      "2024-04-18 16:23:22.705603: W tensorflow/stream_executor/platform/default/dso_loader.cc:64] Could not load dynamic library 'libcudart.so.11.0'; dlerror: libcudart.so.11.0: cannot open shared object file: No such file or directory\n",
      "2024-04-18 16:23:22.705624: I tensorflow/stream_executor/cuda/cudart_stub.cc:29] Ignore above cudart dlerror if you do not have a GPU set up on your machine.\n"
     ]
    }
   ],
   "source": [
    "import tensorflow as tf\n",
    "import numpy as np\n",
    "import pandas as pd\n",
    "import matplotlib.pyplot as plt\n",
    "from tensorboard.backend.event_processing import event_accumulator\n",
    "\n",
    "# Path to your TensorBoard log files\n",
    "log_path = 'mbart-large-cc25-TalTechNLP/samsum_ee/logs/events.out.tfevents.1713096728.2ca00bef5a11.161528.0'"
   ]
  },
  {
   "cell_type": "code",
   "execution_count": 2,
   "id": "c6b65766-81c8-449f-9a58-7177cb9d4277",
   "metadata": {
    "pycharm": {
     "name": "#%%\n"
    }
   },
   "outputs": [
    {
     "name": "stdout",
     "output_type": "stream",
     "text": [
      "Data for tag: train/loss\n",
      "Data for tag: train/learning_rate\n",
      "Data for tag: train/epoch\n",
      "Data for tag: eval/loss\n",
      "Data for tag: eval/rouge1\n",
      "Data for tag: eval/rouge2\n",
      "Data for tag: eval/rougeL\n",
      "Data for tag: eval/rougeLsum\n",
      "Data for tag: eval/gen_len\n",
      "Data for tag: eval/runtime\n",
      "Data for tag: eval/samples_per_second\n",
      "Data for tag: eval/steps_per_second\n",
      "Data for tag: train/train_runtime\n",
      "Data for tag: train/train_samples_per_second\n",
      "Data for tag: train/train_steps_per_second\n",
      "Data for tag: train/total_flos\n",
      "Data for tag: train/train_loss\n"
     ]
    },
    {
     "data": {
      "text/html": [
       "<div>\n",
       "<style scoped>\n",
       "    .dataframe tbody tr th:only-of-type {\n",
       "        vertical-align: middle;\n",
       "    }\n",
       "\n",
       "    .dataframe tbody tr th {\n",
       "        vertical-align: top;\n",
       "    }\n",
       "\n",
       "    .dataframe thead th {\n",
       "        text-align: right;\n",
       "    }\n",
       "</style>\n",
       "<table border=\"1\" class=\"dataframe\">\n",
       "  <thead>\n",
       "    <tr style=\"text-align: right;\">\n",
       "      <th></th>\n",
       "      <th>Step</th>\n",
       "      <th>train/train_loss</th>\n",
       "    </tr>\n",
       "  </thead>\n",
       "  <tbody>\n",
       "    <tr>\n",
       "      <th>0</th>\n",
       "      <td>16500</td>\n",
       "      <td>1.380043</td>\n",
       "    </tr>\n",
       "  </tbody>\n",
       "</table>\n",
       "</div>"
      ],
      "text/plain": [
       "    Step  train/train_loss\n",
       "0  16500          1.380043"
      ]
     },
     "execution_count": 2,
     "metadata": {},
     "output_type": "execute_result"
    }
   ],
   "source": [
    "def load_tensorboard_data(event_file_path):\n",
    "    # Initialize an EventAccumulator with size_guidance for auto loading of all data\n",
    "    ea = event_accumulator.EventAccumulator(event_file_path,\n",
    "        size_guidance={\n",
    "            event_accumulator.SCALARS: 0,\n",
    "            event_accumulator.IMAGES: 0,\n",
    "            event_accumulator.AUDIO: 0,\n",
    "            event_accumulator.HISTOGRAMS: 0,\n",
    "            event_accumulator.TENSORS: 0,\n",
    "        })\n",
    "\n",
    "    # Load the data\n",
    "    ea.Reload()\n",
    "\n",
    "    # Data extraction examples\n",
    "    data = {}\n",
    "\n",
    "    # Extract scalars to a DataFrame\n",
    "    for tag in ea.Tags()['scalars']:\n",
    "        events = ea.Scalars(tag)\n",
    "        data[tag] = pd.DataFrame([(e.step, e.value) for e in events], columns=['Step', tag])\n",
    "\n",
    "    # Extend this part to handle histograms, images, etc., as needed\n",
    "\n",
    "    return data\n",
    "\n",
    "data = load_tensorboard_data(log_path)\n",
    "# Example to print the available scalar tags and their first few values\n",
    "for tag, df in data.items():\n",
    "    print(f\"Data for tag: {tag}\")\n",
    "    # print(df.head())\n",
    "    \n",
    "df"
   ]
  },
  {
   "cell_type": "code",
   "execution_count": 3,
   "id": "a3078504-79e4-4eb2-a1fb-3436c578f8bb",
   "metadata": {
    "pycharm": {
     "name": "#%%\n"
    }
   },
   "outputs": [
    {
     "data": {
      "text/plain": [
       "<AxesSubplot:>"
      ]
     },
     "execution_count": 3,
     "metadata": {},
     "output_type": "execute_result"
    },
    {
     "data": {
      "image/png": "[encoded data removed]",
      "text/plain": [
       "<Figure size 432x288 with 1 Axes>"
      ]
     },
     "metadata": {
      "needs_background": "light"
     },
     "output_type": "display_data"
    }
   ],
   "source": [
    "data['eval/loss']['eval/loss'].plot()"
   ]
  },
  {
   "cell_type": "code",
   "execution_count": 5,
   "id": "514846e4-8602-4485-bf24-e0f9b781a22a",
   "metadata": {
    "pycharm": {
     "name": "#%%\n"
    }
   },
   "outputs": [
    {
     "data": {
      "text/plain": [
       "<AxesSubplot:>"
      ]
     },
     "execution_count": 5,
     "metadata": {},
     "output_type": "execute_result"
    },
    {
     "data": {
      "image/png": "[encoded data removed]",
      "text/plain": [
       "<Figure size 432x288 with 1 Axes>"
      ]
     },
     "metadata": {
      "needs_background": "light"
     },
     "output_type": "display_data"
    }
   ],
   "source": [
    "data['eval/rouge1']['eval/rouge1'].plot()"
   ]
  },
  {
   "cell_type": "code",
   "execution_count": 7,
   "id": "43b2a734-6054-4905-b1fc-6e3bb54ac3fb",
   "metadata": {
    "pycharm": {
     "name": "#%%\n"
    }
   },
   "outputs": [
    {
     "data": {
      "text/plain": [
       "38.100799560546875"
      ]
     },
     "execution_count": 7,
     "metadata": {},
     "output_type": "execute_result"
    }
   ],
   "source": [
    "data['eval/rouge1']['eval/rouge1'].max()"
   ]
  },
  {
   "cell_type": "code",
   "execution_count": 6,
   "id": "00c48abc-c04b-4bad-91fd-3c57fc857b17",
   "metadata": {
    "pycharm": {
     "name": "#%%\n"
    }
   },
   "outputs": [
    {
     "data": {
      "text/plain": [
       "<AxesSubplot:>"
      ]
     },
     "execution_count": 6,
     "metadata": {},
     "output_type": "execute_result"
    },
    {
     "data": {
      "image/png": "[encoded data removed]",
      "text/plain": [
       "<Figure size 432x288 with 1 Axes>"
      ]
     },
     "metadata": {
      "needs_background": "light"
     },
     "output_type": "display_data"
    }
   ],
   "source": [
    "data['eval/rouge2']['eval/rouge2'].plot()"
   ]
  },
  {
   "cell_type": "code",
   "execution_count": null,
   "id": "ba542880-e12c-4e7b-8f84-78fc51d9c1ae",
   "metadata": {
    "pycharm": {
     "name": "#%%\n"
    }
   },
   "outputs": [],
   "source": []
  }
 ],
 "metadata": {
  "kernelspec": {
   "display_name": "Python 3 (ipykernel)",
   "language": "python",
   "name": "python3"
  },
  "language_info": {
   "codemirror_mode": {
    "name": "ipython",
    "version": 3
   },
   "file_extension": ".py",
   "mimetype": "text/x-python",
   "name": "python",
   "nbconvert_exporter": "python",
   "pygments_lexer": "ipython3",
   "version": "3.9.7"
  }
 },
 "nbformat": 4,
 "nbformat_minor": 5
}